{
 "cells": [
  {
   "cell_type": "markdown",
   "metadata": {},
   "source": [
    "This is a project for the course of Databases and SQL for Data Science"
   ]
  },
  {
   "cell_type": "markdown",
   "metadata": {},
   "source": [
    "# Introduction\n",
    "\n",
    "Using this Python notebook you will:\n",
    "1. Understand 3 Chicago datasets  \n",
    "1. Load the 3 datasets into 3 tables in a Db2 database\n",
    "1. Execute SQL queries to answer assignment questions "
   ]
  },
  {
   "cell_type": "markdown",
   "metadata": {},
   "source": [
    "## Understand the datasets \n",
    "To complete the assignment problems in this notebook you will be using three datasets that are available on the city of Chicago's Data Portal:\n",
    "1. <a href=\"https://data.cityofchicago.org/Health-Human-Services/Census-Data-Selected-socioeconomic-indicators-in-C/kn9c-c2s2\">Socioeconomic Indicators in Chicago</a>\n",
    "1. <a href=\"https://data.cityofchicago.org/Education/Chicago-Public-Schools-Progress-Report-Cards-2011-/9xs2-f89t\">Chicago Public Schools</a>\n",
    "1. <a href=\"https://data.cityofchicago.org/Public-Safety/Crimes-2001-to-present/ijzp-q8t2\">Chicago Crime Data</a>\n",
    "\n",
    "### 1. Socioeconomic Indicators in Chicago\n",
    "This dataset contains a selection of six socioeconomic indicators of public health significance and a “hardship index,” for each Chicago community area, for the years 2008 – 2012.\n",
    "\n",
    "For this assignment you will use a snapshot of this dataset which can be downloaded from:\n",
    "https://ibm.box.com/shared/static/05c3415cbfbtfnr2fx4atenb2sd361ze.csv\n",
    "\n",
    "A detailed description of this dataset and the original dataset can be obtained from the Chicago Data Portal at:\n",
    "https://data.cityofchicago.org/Health-Human-Services/Census-Data-Selected-socioeconomic-indicators-in-C/kn9c-c2s2\n",
    "\n",
    "\n",
    "\n",
    "### 2. Chicago Public Schools\n",
    "\n",
    "This dataset shows all school level performance data used to create CPS School Report Cards for the 2011-2012 school year. This dataset is provided by the city of Chicago's Data Portal.\n",
    "\n",
    "For this assignment you will use a snapshot of this dataset which can be downloaded from:\n",
    "https://ibm.box.com/shared/static/f9gjvj1gjmxxzycdhplzt01qtz0s7ew7.csv\n",
    "\n",
    "A detailed description of this dataset and the original dataset can be obtained from the Chicago Data Portal at:\n",
    "https://data.cityofchicago.org/Education/Chicago-Public-Schools-Progress-Report-Cards-2011-/9xs2-f89t\n",
    "\n",
    "\n",
    "\n",
    "\n",
    "### 3. Chicago Crime Data \n",
    "\n",
    "This dataset reflects reported incidents of crime (with the exception of murders where data exists for each victim) that occurred in the City of Chicago from 2001 to present, minus the most recent seven days. \n",
    "\n",
    "This dataset is quite large - over 1.5GB in size with over 6.5 million rows. For the purposes of this assignment we will use a much smaller sample of this dataset which can be downloaded from:\n",
    "https://ibm.box.com/shared/static/svflyugsr9zbqy5bmowgswqemfpm1x7f.csv\n",
    "\n",
    "A detailed description of this dataset and the original dataset can be obtained from the Chicago Data Portal at:\n",
    "https://data.cityofchicago.org/Public-Safety/Crimes-2001-to-present/ijzp-q8t2\n"
   ]
  },
  {
   "cell_type": "markdown",
   "metadata": {},
   "source": [
    "### Download the datasets\n",
    "In many cases the dataset to be analyzed is available as a .CSV (comma separated values) file, perhaps on the internet. Click on the links below to download and save the datasets (.CSV files):\n",
    "1. __CENSUS_DATA:__ https://ibm.box.com/shared/static/05c3415cbfbtfnr2fx4atenb2sd361ze.csv\n",
    "1. __CHICAGO_PUBLIC_SCHOOLS__  https://ibm.box.com/shared/static/f9gjvj1gjmxxzycdhplzt01qtz0s7ew7.csv\n",
    "1. __CHICAGO_CRIME_DATA:__ https://ibm.box.com/shared/static/svflyugsr9zbqy5bmowgswqemfpm1x7f.csv\n",
    "\n",
    "__NOTE:__ Ensure you have downloaded the datasets using the links above instead of directly from the Chicago Data Portal. The versions linked here are subsets of the original datasets and have some of the column names modified to be more database friendly which will make it easier to complete this assignment."
   ]
  },
  {
   "cell_type": "markdown",
   "metadata": {},
   "source": [
    "### Store the datasets in database tables\n",
    "To analyze the data using SQL, it first needs to be stored in the database.\n",
    "\n",
    "While it is easier to read the dataset into a Pandas dataframe and then PERSIST it into the database as we saw in Week 3 Lab 3, it results in mapping to default datatypes which may not be optimal for SQL querying. For example a long textual field may map to a CLOB instead of a VARCHAR. \n",
    "\n",
    "Therefore, __it is highly recommended to manually load the table using the database console LOAD tool, as indicated in Week 2 Lab 1 Part II__. The only difference with that lab is that in Step 5 of the instructions you will need to click on create \"(+) New Table\" and specify the name of the table you want to create and then click \"Next\". \n",
    "\n",
    "##### Now open the Db2 console, open the LOAD tool, Select / Drag the .CSV file for the first dataset, Next create a New Table, and then follow the steps on-screen instructions to load the data. Name the new tables as folows:\n",
    "1. __CENSUS_DATA__\n",
    "1. __CHICAGO_PUBLIC_SCHOOLS__\n",
    "1. __CHICAGO_CRIME_DATA__"
   ]
  },
  {
   "cell_type": "markdown",
   "metadata": {},
   "source": [
    "### Connect to the database \n",
    "Let us first load the SQL extension and establish a connection with the database"
   ]
  },
  {
   "cell_type": "code",
   "execution_count": 1,
   "metadata": {},
   "outputs": [],
   "source": [
    "%load_ext sql"
   ]
  },
  {
   "cell_type": "markdown",
   "metadata": {},
   "source": [
    "In the next cell enter your db2 connection string. Recall you created Service Credentials for your Db2 instance in first lab in Week 3. From the __uri__ field of your Db2 service credentials copy everything after db2:// (except the double quote at the end) and paste it in the cell below after ibm_db_sa://"
   ]
  },
  {
   "cell_type": "code",
   "execution_count": null,
   "metadata": {},
   "outputs": [],
   "source": [
    "# Remember the connection string is of the format:\n",
    "# %sql ibm_db_sa://my-username:my-password@my-hostname:my-port/my-db-name\n",
    "# Enter the connection string for your Db2 on Cloud database instance below\n",
    "%sql ibm_db_sa://hkq36638:vp0r2ztfxjq+hrhs@dashdb-txn-sbox-yp-lon02-04.services.eu-gb.bluemix.net:50000/BLUDB"
   ]
  },
  {
   "cell_type": "markdown",
   "metadata": {},
   "source": [
    "## Problems\n",
    "Now write and execute SQL queries to solve assignment problems\n",
    "\n",
    "\n",
    "##### Find the total number of crimes recorded in the CRIME table"
   ]
  },
  {
   "cell_type": "code",
   "execution_count": 4,
   "metadata": {},
   "outputs": [
    {
     "name": "stdout",
     "output_type": "stream",
     "text": [
      " * ibm_db_sa://hkq36638:***@dashdb-txn-sbox-yp-lon02-04.services.eu-gb.bluemix.net:50000/BLUDB\n",
      "Done.\n"
     ]
    },
    {
     "data": {
      "text/html": [
       "<table>\n",
       "    <tr>\n",
       "        <th>1</th>\n",
       "    </tr>\n",
       "    <tr>\n",
       "        <td>533</td>\n",
       "    </tr>\n",
       "</table>"
      ],
      "text/plain": [
       "[(Decimal('533'),)]"
      ]
     },
     "execution_count": 4,
     "metadata": {},
     "output_type": "execute_result"
    }
   ],
   "source": [
    "# Rows in Crime table\n",
    "\n",
    "%sql select count(*) from CHICAGO_CRIME_DATA"
   ]
  },
  {
   "cell_type": "markdown",
   "metadata": {},
   "source": [
    "\n",
    "##### Retrieve first 10 rows from the CRIME table\n"
   ]
  },
  {
   "cell_type": "code",
   "execution_count": 37,
   "metadata": {},
   "outputs": [
    {
     "name": "stdout",
     "output_type": "stream",
     "text": [
      " * ibm_db_sa://hkq36638:***@dashdb-txn-sbox-yp-lon02-04.services.eu-gb.bluemix.net:50000/BLUDB\n",
      "Done.\n"
     ]
    },
    {
     "data": {
      "text/html": [
       "<table>\n",
       "    <tr>\n",
       "        <th>id</th>\n",
       "        <th>case_number</th>\n",
       "        <th>DATE</th>\n",
       "        <th>block</th>\n",
       "        <th>iucr</th>\n",
       "        <th>primary_type</th>\n",
       "        <th>description</th>\n",
       "        <th>location_description</th>\n",
       "        <th>arrest</th>\n",
       "        <th>domestic</th>\n",
       "        <th>beat</th>\n",
       "        <th>district</th>\n",
       "        <th>ward</th>\n",
       "        <th>community_area_number</th>\n",
       "        <th>fbicode</th>\n",
       "        <th>x_coordinate</th>\n",
       "        <th>y_coordinate</th>\n",
       "        <th>YEAR</th>\n",
       "        <th>updatedon</th>\n",
       "        <th>latitude</th>\n",
       "        <th>longitude</th>\n",
       "        <th>location</th>\n",
       "    </tr>\n",
       "    <tr>\n",
       "        <td>3512276</td>\n",
       "        <td>HK587712</td>\n",
       "        <td>2004-08-28 17:50:56</td>\n",
       "        <td>047XX S KEDZIE AVE</td>\n",
       "        <td>890</td>\n",
       "        <td>THEFT</td>\n",
       "        <td>FROM BUILDING</td>\n",
       "        <td>SMALL RETAIL STORE</td>\n",
       "        <td>FALSE</td>\n",
       "        <td>FALSE</td>\n",
       "        <td>911</td>\n",
       "        <td>9</td>\n",
       "        <td>14</td>\n",
       "        <td>58</td>\n",
       "        <td>6</td>\n",
       "        <td>1155838</td>\n",
       "        <td>1873050</td>\n",
       "        <td>2004</td>\n",
       "        <td>2018-02-10 15:50:01</td>\n",
       "        <td>41.80744050</td>\n",
       "        <td>-87.70395585</td>\n",
       "        <td>(41.8074405, -87.703955849)</td>\n",
       "    </tr>\n",
       "    <tr>\n",
       "        <td>3406613</td>\n",
       "        <td>HK456306</td>\n",
       "        <td>2004-06-26 12:40:00</td>\n",
       "        <td>009XX N CENTRAL PARK AVE</td>\n",
       "        <td>820</td>\n",
       "        <td>THEFT</td>\n",
       "        <td>$500 AND UNDER</td>\n",
       "        <td>OTHER</td>\n",
       "        <td>FALSE</td>\n",
       "        <td>FALSE</td>\n",
       "        <td>1112</td>\n",
       "        <td>11</td>\n",
       "        <td>27</td>\n",
       "        <td>23</td>\n",
       "        <td>6</td>\n",
       "        <td>1152206</td>\n",
       "        <td>1906127</td>\n",
       "        <td>2004</td>\n",
       "        <td>2018-02-28 15:56:25</td>\n",
       "        <td>41.89827996</td>\n",
       "        <td>-87.71640551</td>\n",
       "        <td>(41.898279962, -87.716405505)</td>\n",
       "    </tr>\n",
       "    <tr>\n",
       "        <td>8002131</td>\n",
       "        <td>HT233595</td>\n",
       "        <td>2011-04-04 05:45:00</td>\n",
       "        <td>043XX S WABASH AVE</td>\n",
       "        <td>820</td>\n",
       "        <td>THEFT</td>\n",
       "        <td>$500 AND UNDER</td>\n",
       "        <td>NURSING HOME/RETIREMENT HOME</td>\n",
       "        <td>FALSE</td>\n",
       "        <td>FALSE</td>\n",
       "        <td>221</td>\n",
       "        <td>2</td>\n",
       "        <td>3</td>\n",
       "        <td>38</td>\n",
       "        <td>6</td>\n",
       "        <td>1177436</td>\n",
       "        <td>1876313</td>\n",
       "        <td>2011</td>\n",
       "        <td>2018-02-10 15:50:01</td>\n",
       "        <td>41.81593313</td>\n",
       "        <td>-87.62464213</td>\n",
       "        <td>(41.815933131, -87.624642127)</td>\n",
       "    </tr>\n",
       "    <tr>\n",
       "        <td>7903289</td>\n",
       "        <td>HT133522</td>\n",
       "        <td>2010-12-30 16:30:00</td>\n",
       "        <td>083XX S KINGSTON AVE</td>\n",
       "        <td>840</td>\n",
       "        <td>THEFT</td>\n",
       "        <td>FINANCIAL ID THEFT: OVER $300</td>\n",
       "        <td>RESIDENCE</td>\n",
       "        <td>FALSE</td>\n",
       "        <td>FALSE</td>\n",
       "        <td>423</td>\n",
       "        <td>4</td>\n",
       "        <td>7</td>\n",
       "        <td>46</td>\n",
       "        <td>6</td>\n",
       "        <td>1194622</td>\n",
       "        <td>1850125</td>\n",
       "        <td>2010</td>\n",
       "        <td>2018-02-10 15:50:01</td>\n",
       "        <td>41.74366532</td>\n",
       "        <td>-87.56246276</td>\n",
       "        <td>(41.743665322, -87.562462756)</td>\n",
       "    </tr>\n",
       "    <tr>\n",
       "        <td>10402076</td>\n",
       "        <td>HZ138551</td>\n",
       "        <td>2016-02-02 19:30:00</td>\n",
       "        <td>033XX W 66TH ST</td>\n",
       "        <td>820</td>\n",
       "        <td>THEFT</td>\n",
       "        <td>$500 AND UNDER</td>\n",
       "        <td>ALLEY</td>\n",
       "        <td>FALSE</td>\n",
       "        <td>FALSE</td>\n",
       "        <td>831</td>\n",
       "        <td>8</td>\n",
       "        <td>15</td>\n",
       "        <td>66</td>\n",
       "        <td>6</td>\n",
       "        <td>1155240</td>\n",
       "        <td>1860661</td>\n",
       "        <td>2016</td>\n",
       "        <td>2018-02-10 15:50:01</td>\n",
       "        <td>41.77345530</td>\n",
       "        <td>-87.70648047</td>\n",
       "        <td>(41.773455295, -87.706480471)</td>\n",
       "    </tr>\n",
       "    <tr>\n",
       "        <td>7732712</td>\n",
       "        <td>HS540106</td>\n",
       "        <td>2010-09-29 07:59:00</td>\n",
       "        <td>006XX W CHICAGO AVE</td>\n",
       "        <td>810</td>\n",
       "        <td>THEFT</td>\n",
       "        <td>OVER $500</td>\n",
       "        <td>PARKING LOT/GARAGE(NON.RESID.)</td>\n",
       "        <td>FALSE</td>\n",
       "        <td>FALSE</td>\n",
       "        <td>1323</td>\n",
       "        <td>12</td>\n",
       "        <td>27</td>\n",
       "        <td>24</td>\n",
       "        <td>6</td>\n",
       "        <td>1171668</td>\n",
       "        <td>1905607</td>\n",
       "        <td>2010</td>\n",
       "        <td>2018-02-10 15:50:01</td>\n",
       "        <td>41.89644677</td>\n",
       "        <td>-87.64493868</td>\n",
       "        <td>(41.896446772, -87.644938678)</td>\n",
       "    </tr>\n",
       "    <tr>\n",
       "        <td>10769475</td>\n",
       "        <td>HZ534771</td>\n",
       "        <td>2016-11-30 01:15:00</td>\n",
       "        <td>050XX N KEDZIE AVE</td>\n",
       "        <td>810</td>\n",
       "        <td>THEFT</td>\n",
       "        <td>OVER $500</td>\n",
       "        <td>STREET</td>\n",
       "        <td>FALSE</td>\n",
       "        <td>FALSE</td>\n",
       "        <td>1713</td>\n",
       "        <td>17</td>\n",
       "        <td>33</td>\n",
       "        <td>14</td>\n",
       "        <td>6</td>\n",
       "        <td>1154133</td>\n",
       "        <td>1933314</td>\n",
       "        <td>2016</td>\n",
       "        <td>2018-02-10 15:50:01</td>\n",
       "        <td>41.97284491</td>\n",
       "        <td>-87.70860008</td>\n",
       "        <td>(41.972844913, -87.708600079)</td>\n",
       "    </tr>\n",
       "    <tr>\n",
       "        <td>4494340</td>\n",
       "        <td>HL793243</td>\n",
       "        <td>2005-12-16 16:45:00</td>\n",
       "        <td>005XX E PERSHING RD</td>\n",
       "        <td>860</td>\n",
       "        <td>THEFT</td>\n",
       "        <td>RETAIL THEFT</td>\n",
       "        <td>GROCERY FOOD STORE</td>\n",
       "        <td>TRUE</td>\n",
       "        <td>FALSE</td>\n",
       "        <td>213</td>\n",
       "        <td>2</td>\n",
       "        <td>3</td>\n",
       "        <td>38</td>\n",
       "        <td>6</td>\n",
       "        <td>1180448</td>\n",
       "        <td>1879234</td>\n",
       "        <td>2005</td>\n",
       "        <td>2018-02-28 15:56:25</td>\n",
       "        <td>41.82387989</td>\n",
       "        <td>-87.61350386</td>\n",
       "        <td>(41.823879885, -87.613503857)</td>\n",
       "    </tr>\n",
       "    <tr>\n",
       "        <td>3778925</td>\n",
       "        <td>HL149610</td>\n",
       "        <td>2005-01-28 17:00:00</td>\n",
       "        <td>100XX S WASHTENAW AVE</td>\n",
       "        <td>810</td>\n",
       "        <td>THEFT</td>\n",
       "        <td>OVER $500</td>\n",
       "        <td>STREET</td>\n",
       "        <td>FALSE</td>\n",
       "        <td>FALSE</td>\n",
       "        <td>2211</td>\n",
       "        <td>22</td>\n",
       "        <td>19</td>\n",
       "        <td>72</td>\n",
       "        <td>6</td>\n",
       "        <td>1160129</td>\n",
       "        <td>1838040</td>\n",
       "        <td>2005</td>\n",
       "        <td>2018-02-28 15:56:25</td>\n",
       "        <td>41.71128051</td>\n",
       "        <td>-87.68917910</td>\n",
       "        <td>(41.711280513, -87.689179097)</td>\n",
       "    </tr>\n",
       "    <tr>\n",
       "        <td>3324217</td>\n",
       "        <td>HK361551</td>\n",
       "        <td>2004-05-13 14:15:00</td>\n",
       "        <td>033XX W BELMONT AVE</td>\n",
       "        <td>820</td>\n",
       "        <td>THEFT</td>\n",
       "        <td>$500 AND UNDER</td>\n",
       "        <td>SMALL RETAIL STORE</td>\n",
       "        <td>FALSE</td>\n",
       "        <td>FALSE</td>\n",
       "        <td>1733</td>\n",
       "        <td>17</td>\n",
       "        <td>35</td>\n",
       "        <td>21</td>\n",
       "        <td>6</td>\n",
       "        <td>1153590</td>\n",
       "        <td>1921084</td>\n",
       "        <td>2004</td>\n",
       "        <td>2018-02-28 15:56:25</td>\n",
       "        <td>41.93929582</td>\n",
       "        <td>-87.71092344</td>\n",
       "        <td>(41.939295821, -87.710923442)</td>\n",
       "    </tr>\n",
       "</table>"
      ],
      "text/plain": [
       "[(3512276, 'HK587712', datetime.datetime(2004, 8, 28, 17, 50, 56), '047XX S KEDZIE AVE', '890', 'THEFT', 'FROM BUILDING', 'SMALL RETAIL STORE', 'FALSE', 'FALSE', 911, 9, 14, 58, '6', 1155838, 1873050, 2004, datetime.datetime(2018, 2, 10, 15, 50, 1), Decimal('41.80744050'), Decimal('-87.70395585'), '(41.8074405, -87.703955849)'),\n",
       " (3406613, 'HK456306', datetime.datetime(2004, 6, 26, 12, 40), '009XX N CENTRAL PARK AVE', '820', 'THEFT', '$500 AND UNDER', 'OTHER', 'FALSE', 'FALSE', 1112, 11, 27, 23, '6', 1152206, 1906127, 2004, datetime.datetime(2018, 2, 28, 15, 56, 25), Decimal('41.89827996'), Decimal('-87.71640551'), '(41.898279962, -87.716405505)'),\n",
       " (8002131, 'HT233595', datetime.datetime(2011, 4, 4, 5, 45), '043XX S WABASH AVE', '820', 'THEFT', '$500 AND UNDER', 'NURSING HOME/RETIREMENT HOME', 'FALSE', 'FALSE', 221, 2, 3, 38, '6', 1177436, 1876313, 2011, datetime.datetime(2018, 2, 10, 15, 50, 1), Decimal('41.81593313'), Decimal('-87.62464213'), '(41.815933131, -87.624642127)'),\n",
       " (7903289, 'HT133522', datetime.datetime(2010, 12, 30, 16, 30), '083XX S KINGSTON AVE', '840', 'THEFT', 'FINANCIAL ID THEFT: OVER $300', 'RESIDENCE', 'FALSE', 'FALSE', 423, 4, 7, 46, '6', 1194622, 1850125, 2010, datetime.datetime(2018, 2, 10, 15, 50, 1), Decimal('41.74366532'), Decimal('-87.56246276'), '(41.743665322, -87.562462756)'),\n",
       " (10402076, 'HZ138551', datetime.datetime(2016, 2, 2, 19, 30), '033XX W 66TH ST', '820', 'THEFT', '$500 AND UNDER', 'ALLEY', 'FALSE', 'FALSE', 831, 8, 15, 66, '6', 1155240, 1860661, 2016, datetime.datetime(2018, 2, 10, 15, 50, 1), Decimal('41.77345530'), Decimal('-87.70648047'), '(41.773455295, -87.706480471)'),\n",
       " (7732712, 'HS540106', datetime.datetime(2010, 9, 29, 7, 59), '006XX W CHICAGO AVE', '810', 'THEFT', 'OVER $500', 'PARKING LOT/GARAGE(NON.RESID.)', 'FALSE', 'FALSE', 1323, 12, 27, 24, '6', 1171668, 1905607, 2010, datetime.datetime(2018, 2, 10, 15, 50, 1), Decimal('41.89644677'), Decimal('-87.64493868'), '(41.896446772, -87.644938678)'),\n",
       " (10769475, 'HZ534771', datetime.datetime(2016, 11, 30, 1, 15), '050XX N KEDZIE AVE', '810', 'THEFT', 'OVER $500', 'STREET', 'FALSE', 'FALSE', 1713, 17, 33, 14, '6', 1154133, 1933314, 2016, datetime.datetime(2018, 2, 10, 15, 50, 1), Decimal('41.97284491'), Decimal('-87.70860008'), '(41.972844913, -87.708600079)'),\n",
       " (4494340, 'HL793243', datetime.datetime(2005, 12, 16, 16, 45), '005XX E PERSHING RD', '860', 'THEFT', 'RETAIL THEFT', 'GROCERY FOOD STORE', 'TRUE', 'FALSE', 213, 2, 3, 38, '6', 1180448, 1879234, 2005, datetime.datetime(2018, 2, 28, 15, 56, 25), Decimal('41.82387989'), Decimal('-87.61350386'), '(41.823879885, -87.613503857)'),\n",
       " (3778925, 'HL149610', datetime.datetime(2005, 1, 28, 17, 0), '100XX S WASHTENAW AVE', '810', 'THEFT', 'OVER $500', 'STREET', 'FALSE', 'FALSE', 2211, 22, 19, 72, '6', 1160129, 1838040, 2005, datetime.datetime(2018, 2, 28, 15, 56, 25), Decimal('41.71128051'), Decimal('-87.68917910'), '(41.711280513, -87.689179097)'),\n",
       " (3324217, 'HK361551', datetime.datetime(2004, 5, 13, 14, 15), '033XX W BELMONT AVE', '820', 'THEFT', '$500 AND UNDER', 'SMALL RETAIL STORE', 'FALSE', 'FALSE', 1733, 17, 35, 21, '6', 1153590, 1921084, 2004, datetime.datetime(2018, 2, 28, 15, 56, 25), Decimal('41.93929582'), Decimal('-87.71092344'), '(41.939295821, -87.710923442)')]"
      ]
     },
     "execution_count": 37,
     "metadata": {},
     "output_type": "execute_result"
    }
   ],
   "source": [
    "# Retrive first 10 rows\n",
    "\n",
    "%sql select * from CHICAGO_CRIME_DATA\\\n",
    "fetch first 10 rows only"
   ]
  },
  {
   "cell_type": "markdown",
   "metadata": {},
   "source": [
    "\n",
    "##### How many crimes involve an arrest?"
   ]
  },
  {
   "cell_type": "code",
   "execution_count": 6,
   "metadata": {},
   "outputs": [
    {
     "name": "stdout",
     "output_type": "stream",
     "text": [
      " * ibm_db_sa://hkq36638:***@dashdb-txn-sbox-yp-lon02-04.services.eu-gb.bluemix.net:50000/BLUDB\n",
      "Done.\n"
     ]
    },
    {
     "data": {
      "text/html": [
       "<table>\n",
       "    <tr>\n",
       "        <th>arrest</th>\n",
       "    </tr>\n",
       "    <tr>\n",
       "        <td>163</td>\n",
       "    </tr>\n",
       "</table>"
      ],
      "text/plain": [
       "[(Decimal('163'),)]"
      ]
     },
     "execution_count": 6,
     "metadata": {},
     "output_type": "execute_result"
    }
   ],
   "source": [
    "# Arrest\n",
    "\n",
    "%sql select count(ARREST) as Arrest from CHICAGO_CRIME_DATA\\\n",
    "where ARREST = 'TRUE'"
   ]
  },
  {
   "cell_type": "markdown",
   "metadata": {},
   "source": [
    "\n",
    "##### Which unique types of crimes have been recorded at GAS STATION locations?\n"
   ]
  },
  {
   "cell_type": "code",
   "execution_count": 7,
   "metadata": {},
   "outputs": [
    {
     "name": "stdout",
     "output_type": "stream",
     "text": [
      " * ibm_db_sa://hkq36638:***@dashdb-txn-sbox-yp-lon02-04.services.eu-gb.bluemix.net:50000/BLUDB\n",
      "Done.\n"
     ]
    },
    {
     "data": {
      "text/html": [
       "<table>\n",
       "    <tr>\n",
       "        <th>primary_type</th>\n",
       "        <th>location_description</th>\n",
       "    </tr>\n",
       "    <tr>\n",
       "        <td>CRIMINAL TRESPASS</td>\n",
       "        <td>GAS STATION</td>\n",
       "    </tr>\n",
       "    <tr>\n",
       "        <td>NARCOTICS</td>\n",
       "        <td>GAS STATION</td>\n",
       "    </tr>\n",
       "    <tr>\n",
       "        <td>ROBBERY</td>\n",
       "        <td>GAS STATION</td>\n",
       "    </tr>\n",
       "    <tr>\n",
       "        <td>THEFT</td>\n",
       "        <td>GAS STATION</td>\n",
       "    </tr>\n",
       "</table>"
      ],
      "text/plain": [
       "[('CRIMINAL TRESPASS', 'GAS STATION'),\n",
       " ('NARCOTICS', 'GAS STATION'),\n",
       " ('ROBBERY', 'GAS STATION'),\n",
       " ('THEFT', 'GAS STATION')]"
      ]
     },
     "execution_count": 7,
     "metadata": {},
     "output_type": "execute_result"
    }
   ],
   "source": [
    "# GAS STATION\n",
    "\n",
    "%sql select distinct(PRIMARY_TYPE),LOCATION_DESCRIPTION from CHICAGO_CRIME_DATA\\\n",
    "where LOCATION_DESCRIPTION = 'GAS STATION'"
   ]
  },
  {
   "cell_type": "code",
   "execution_count": 53,
   "metadata": {},
   "outputs": [
    {
     "name": "stdout",
     "output_type": "stream",
     "text": [
      " * ibm_db_sa://hkq36638:***@dashdb-txn-sbox-yp-lon02-04.services.eu-gb.bluemix.net:50000/BLUDB\n",
      "Done.\n"
     ]
    },
    {
     "data": {
      "text/html": [
       "<table>\n",
       "    <tr>\n",
       "        <th>name</th>\n",
       "        <th>coltype</th>\n",
       "        <th>length</th>\n",
       "    </tr>\n",
       "    <tr>\n",
       "        <td>ARREST</td>\n",
       "        <td>VARCHAR </td>\n",
       "        <td>5</td>\n",
       "    </tr>\n",
       "    <tr>\n",
       "        <td>BEAT</td>\n",
       "        <td>SMALLINT</td>\n",
       "        <td>2</td>\n",
       "    </tr>\n",
       "    <tr>\n",
       "        <td>BLOCK</td>\n",
       "        <td>VARCHAR </td>\n",
       "        <td>35</td>\n",
       "    </tr>\n",
       "    <tr>\n",
       "        <td>CASE_NUMBER</td>\n",
       "        <td>VARCHAR </td>\n",
       "        <td>8</td>\n",
       "    </tr>\n",
       "    <tr>\n",
       "        <td>COMMUNITY_AREA_NUMBER</td>\n",
       "        <td>SMALLINT</td>\n",
       "        <td>2</td>\n",
       "    </tr>\n",
       "    <tr>\n",
       "        <td>DATE</td>\n",
       "        <td>TIMESTMP</td>\n",
       "        <td>10</td>\n",
       "    </tr>\n",
       "    <tr>\n",
       "        <td>DESCRIPTION</td>\n",
       "        <td>VARCHAR </td>\n",
       "        <td>46</td>\n",
       "    </tr>\n",
       "    <tr>\n",
       "        <td>DISTRICT</td>\n",
       "        <td>SMALLINT</td>\n",
       "        <td>2</td>\n",
       "    </tr>\n",
       "    <tr>\n",
       "        <td>DOMESTIC</td>\n",
       "        <td>VARCHAR </td>\n",
       "        <td>5</td>\n",
       "    </tr>\n",
       "    <tr>\n",
       "        <td>FBICODE</td>\n",
       "        <td>VARCHAR </td>\n",
       "        <td>3</td>\n",
       "    </tr>\n",
       "    <tr>\n",
       "        <td>ID</td>\n",
       "        <td>INTEGER </td>\n",
       "        <td>4</td>\n",
       "    </tr>\n",
       "    <tr>\n",
       "        <td>IUCR</td>\n",
       "        <td>VARCHAR </td>\n",
       "        <td>4</td>\n",
       "    </tr>\n",
       "    <tr>\n",
       "        <td>LATITUDE</td>\n",
       "        <td>DECIMAL </td>\n",
       "        <td>18</td>\n",
       "    </tr>\n",
       "    <tr>\n",
       "        <td>LOCATION</td>\n",
       "        <td>VARCHAR </td>\n",
       "        <td>29</td>\n",
       "    </tr>\n",
       "    <tr>\n",
       "        <td>LOCATION_DESCRIPTION</td>\n",
       "        <td>VARCHAR </td>\n",
       "        <td>33</td>\n",
       "    </tr>\n",
       "    <tr>\n",
       "        <td>LONGITUDE</td>\n",
       "        <td>DECIMAL </td>\n",
       "        <td>18</td>\n",
       "    </tr>\n",
       "    <tr>\n",
       "        <td>PRIMARY_TYPE</td>\n",
       "        <td>VARCHAR </td>\n",
       "        <td>33</td>\n",
       "    </tr>\n",
       "    <tr>\n",
       "        <td>UPDATEDON</td>\n",
       "        <td>TIMESTMP</td>\n",
       "        <td>10</td>\n",
       "    </tr>\n",
       "    <tr>\n",
       "        <td>WARD</td>\n",
       "        <td>SMALLINT</td>\n",
       "        <td>2</td>\n",
       "    </tr>\n",
       "    <tr>\n",
       "        <td>X_COORDINATE</td>\n",
       "        <td>INTEGER </td>\n",
       "        <td>4</td>\n",
       "    </tr>\n",
       "    <tr>\n",
       "        <td>YEAR</td>\n",
       "        <td>SMALLINT</td>\n",
       "        <td>2</td>\n",
       "    </tr>\n",
       "    <tr>\n",
       "        <td>Y_COORDINATE</td>\n",
       "        <td>INTEGER </td>\n",
       "        <td>4</td>\n",
       "    </tr>\n",
       "</table>"
      ],
      "text/plain": [
       "[('ARREST', 'VARCHAR ', 5),\n",
       " ('BEAT', 'SMALLINT', 2),\n",
       " ('BLOCK', 'VARCHAR ', 35),\n",
       " ('CASE_NUMBER', 'VARCHAR ', 8),\n",
       " ('COMMUNITY_AREA_NUMBER', 'SMALLINT', 2),\n",
       " ('DATE', 'TIMESTMP', 10),\n",
       " ('DESCRIPTION', 'VARCHAR ', 46),\n",
       " ('DISTRICT', 'SMALLINT', 2),\n",
       " ('DOMESTIC', 'VARCHAR ', 5),\n",
       " ('FBICODE', 'VARCHAR ', 3),\n",
       " ('ID', 'INTEGER ', 4),\n",
       " ('IUCR', 'VARCHAR ', 4),\n",
       " ('LATITUDE', 'DECIMAL ', 18),\n",
       " ('LOCATION', 'VARCHAR ', 29),\n",
       " ('LOCATION_DESCRIPTION', 'VARCHAR ', 33),\n",
       " ('LONGITUDE', 'DECIMAL ', 18),\n",
       " ('PRIMARY_TYPE', 'VARCHAR ', 33),\n",
       " ('UPDATEDON', 'TIMESTMP', 10),\n",
       " ('WARD', 'SMALLINT', 2),\n",
       " ('X_COORDINATE', 'INTEGER ', 4),\n",
       " ('YEAR', 'SMALLINT', 2),\n",
       " ('Y_COORDINATE', 'INTEGER ', 4)]"
      ]
     },
     "execution_count": 53,
     "metadata": {},
     "output_type": "execute_result"
    }
   ],
   "source": [
    "# type in your query to retrieve all column names in the table along with their datatypes and length\n",
    "%sql select distinct(NAME),COLTYPE,LENGTH from SYSIBM.SYSCOLUMNS where TBNAME = 'CHICAGO_CRIME_DATA'"
   ]
  },
  {
   "cell_type": "markdown",
   "metadata": {},
   "source": [
    "Hint: Which column lists types of crimes e.g. THEFT?"
   ]
  },
  {
   "cell_type": "markdown",
   "metadata": {},
   "source": [
    "\n",
    "##### In the CENUS_DATA table list all Community Areas whose names start with the letter ‘B’."
   ]
  },
  {
   "cell_type": "code",
   "execution_count": 44,
   "metadata": {},
   "outputs": [
    {
     "name": "stdout",
     "output_type": "stream",
     "text": [
      " * ibm_db_sa://hkq36638:***@dashdb-txn-sbox-yp-lon02-04.services.eu-gb.bluemix.net:50000/BLUDB\n",
      "Done.\n"
     ]
    },
    {
     "data": {
      "text/html": [
       "<table>\n",
       "    <tr>\n",
       "        <th>community_area_name</th>\n",
       "    </tr>\n",
       "    <tr>\n",
       "        <td>Belmont Cragin</td>\n",
       "    </tr>\n",
       "    <tr>\n",
       "        <td>Burnside</td>\n",
       "    </tr>\n",
       "    <tr>\n",
       "        <td>Brighton Park</td>\n",
       "    </tr>\n",
       "    <tr>\n",
       "        <td>Bridgeport</td>\n",
       "    </tr>\n",
       "    <tr>\n",
       "        <td>Beverly</td>\n",
       "    </tr>\n",
       "</table>"
      ],
      "text/plain": [
       "[('Belmont Cragin',),\n",
       " ('Burnside',),\n",
       " ('Brighton Park',),\n",
       " ('Bridgeport',),\n",
       " ('Beverly',)]"
      ]
     },
     "execution_count": 44,
     "metadata": {},
     "output_type": "execute_result"
    }
   ],
   "source": [
    "\n",
    "%sql select COMMUNITY_AREA_NAME from CENSUS_DATA\\\n",
    "where COMMUNITY_AREA_NAME like 'B%'"
   ]
  },
  {
   "cell_type": "markdown",
   "metadata": {},
   "source": [
    "\n",
    "##### Which schools in Community Areas 10 to 15 are healthy school certified?"
   ]
  },
  {
   "cell_type": "code",
   "execution_count": 4,
   "metadata": {},
   "outputs": [
    {
     "name": "stdout",
     "output_type": "stream",
     "text": [
      " * ibm_db_sa://hkq36638:***@dashdb-txn-sbox-yp-lon02-04.services.eu-gb.bluemix.net:50000/BLUDB\n",
      "Done.\n"
     ]
    },
    {
     "data": {
      "text/html": [
       "<table>\n",
       "    <tr>\n",
       "        <th>name_of_school</th>\n",
       "        <th>community_area_number</th>\n",
       "    </tr>\n",
       "    <tr>\n",
       "        <td>Rufus M Hitch Elementary School</td>\n",
       "        <td>10</td>\n",
       "    </tr>\n",
       "    <tr>\n",
       "        <td>Rufus M Hitch Elementary School</td>\n",
       "        <td>10</td>\n",
       "    </tr>\n",
       "</table>"
      ],
      "text/plain": [
       "[('Rufus M Hitch Elementary School', 10),\n",
       " ('Rufus M Hitch Elementary School', 10)]"
      ]
     },
     "execution_count": 4,
     "metadata": {},
     "output_type": "execute_result"
    }
   ],
   "source": [
    "#Problem6/10-15\n",
    "%sql select NAME_OF_SCHOOL, COMMUNITY_AREA_NUMBER\\\n",
    "from CHICAGO_PUBLIC_SCHOOLS\\\n",
    "where HEALTHY_SCHOOL_CERTIFIED = 'Yes' and COMMUNITY_AREA_NUMBER between 10 and 15 "
   ]
  },
  {
   "cell_type": "code",
   "execution_count": 15,
   "metadata": {},
   "outputs": [
    {
     "name": "stdout",
     "output_type": "stream",
     "text": [
      " * ibm_db_sa://hkq36638:***@dashdb-txn-sbox-yp-lon02-04.services.eu-gb.bluemix.net:50000/BLUDB\n",
      "Done.\n"
     ]
    },
    {
     "data": {
      "text/html": [
       "<table>\n",
       "    <tr>\n",
       "        <th>name</th>\n",
       "        <th>coltype</th>\n",
       "        <th>length</th>\n",
       "    </tr>\n",
       "    <tr>\n",
       "        <td>10th Grade PLAN (2009)</td>\n",
       "        <td>VARCHAR </td>\n",
       "        <td>4</td>\n",
       "    </tr>\n",
       "    <tr>\n",
       "        <td>10th Grade PLAN (2010)</td>\n",
       "        <td>VARCHAR </td>\n",
       "        <td>4</td>\n",
       "    </tr>\n",
       "    <tr>\n",
       "        <td>11th Grade Average ACT (2011)</td>\n",
       "        <td>VARCHAR </td>\n",
       "        <td>4</td>\n",
       "    </tr>\n",
       "    <tr>\n",
       "        <td>9th Grade EXPLORE (2009)</td>\n",
       "        <td>VARCHAR </td>\n",
       "        <td>4</td>\n",
       "    </tr>\n",
       "    <tr>\n",
       "        <td>9th Grade EXPLORE (2010)</td>\n",
       "        <td>VARCHAR </td>\n",
       "        <td>4</td>\n",
       "    </tr>\n",
       "    <tr>\n",
       "        <td>AVERAGE_STUDENT_ATTENDANCE</td>\n",
       "        <td>VARCHAR </td>\n",
       "        <td>6</td>\n",
       "    </tr>\n",
       "    <tr>\n",
       "        <td>Adequate_Yearly_Progress_Made_</td>\n",
       "        <td>VARCHAR </td>\n",
       "        <td>3</td>\n",
       "    </tr>\n",
       "    <tr>\n",
       "        <td>Average_Teacher_Attendance</td>\n",
       "        <td>VARCHAR </td>\n",
       "        <td>6</td>\n",
       "    </tr>\n",
       "    <tr>\n",
       "        <td>COLLEGE_ENROLLMENT</td>\n",
       "        <td>SMALLINT</td>\n",
       "        <td>2</td>\n",
       "    </tr>\n",
       "    <tr>\n",
       "        <td>COMMUNITY_AREA_NAME</td>\n",
       "        <td>VARCHAR </td>\n",
       "        <td>22</td>\n",
       "    </tr>\n",
       "    <tr>\n",
       "        <td>COMMUNITY_AREA_NUMBER</td>\n",
       "        <td>SMALLINT</td>\n",
       "        <td>2</td>\n",
       "    </tr>\n",
       "    <tr>\n",
       "        <td>CPS_Performance_Policy_Level</td>\n",
       "        <td>VARCHAR </td>\n",
       "        <td>15</td>\n",
       "    </tr>\n",
       "    <tr>\n",
       "        <td>CPS_Performance_Policy_Status</td>\n",
       "        <td>VARCHAR </td>\n",
       "        <td>16</td>\n",
       "    </tr>\n",
       "    <tr>\n",
       "        <td>City</td>\n",
       "        <td>VARCHAR </td>\n",
       "        <td>7</td>\n",
       "    </tr>\n",
       "    <tr>\n",
       "        <td>Collaborative_Name</td>\n",
       "        <td>VARCHAR </td>\n",
       "        <td>34</td>\n",
       "    </tr>\n",
       "    <tr>\n",
       "        <td>College_Eligibility__</td>\n",
       "        <td>VARCHAR </td>\n",
       "        <td>4</td>\n",
       "    </tr>\n",
       "    <tr>\n",
       "        <td>College_Enrollment_Rate__</td>\n",
       "        <td>VARCHAR </td>\n",
       "        <td>4</td>\n",
       "    </tr>\n",
       "    <tr>\n",
       "        <td>Elementary, Middle, or High School</td>\n",
       "        <td>VARCHAR </td>\n",
       "        <td>2</td>\n",
       "    </tr>\n",
       "    <tr>\n",
       "        <td>Environment_Icon</td>\n",
       "        <td>VARCHAR </td>\n",
       "        <td>11</td>\n",
       "    </tr>\n",
       "    <tr>\n",
       "        <td>Environment_Score</td>\n",
       "        <td>SMALLINT</td>\n",
       "        <td>2</td>\n",
       "    </tr>\n",
       "    <tr>\n",
       "        <td>Family_Involvement_Icon</td>\n",
       "        <td>VARCHAR </td>\n",
       "        <td>11</td>\n",
       "    </tr>\n",
       "    <tr>\n",
       "        <td>Family_Involvement_Score</td>\n",
       "        <td>VARCHAR </td>\n",
       "        <td>3</td>\n",
       "    </tr>\n",
       "    <tr>\n",
       "        <td>Freshman_on_Track_Rate__</td>\n",
       "        <td>VARCHAR </td>\n",
       "        <td>4</td>\n",
       "    </tr>\n",
       "    <tr>\n",
       "        <td>General_Services_Route</td>\n",
       "        <td>SMALLINT</td>\n",
       "        <td>2</td>\n",
       "    </tr>\n",
       "    <tr>\n",
       "        <td>Gr3_5_Grade_Level_Math__</td>\n",
       "        <td>VARCHAR </td>\n",
       "        <td>4</td>\n",
       "    </tr>\n",
       "    <tr>\n",
       "        <td>Gr3_5_Grade_Level_Read__</td>\n",
       "        <td>VARCHAR </td>\n",
       "        <td>4</td>\n",
       "    </tr>\n",
       "    <tr>\n",
       "        <td>Gr3_5_Keep_Pace_Math__</td>\n",
       "        <td>VARCHAR </td>\n",
       "        <td>4</td>\n",
       "    </tr>\n",
       "    <tr>\n",
       "        <td>Gr3_5_Keep_Pace_Read__</td>\n",
       "        <td>VARCHAR </td>\n",
       "        <td>4</td>\n",
       "    </tr>\n",
       "    <tr>\n",
       "        <td>Gr6_8_Grade_Level_Math__</td>\n",
       "        <td>VARCHAR </td>\n",
       "        <td>4</td>\n",
       "    </tr>\n",
       "    <tr>\n",
       "        <td>Gr6_8_Grade_Level_Read__</td>\n",
       "        <td>VARCHAR </td>\n",
       "        <td>4</td>\n",
       "    </tr>\n",
       "    <tr>\n",
       "        <td>Gr6_8_Keep_Pace_Math_</td>\n",
       "        <td>VARCHAR </td>\n",
       "        <td>4</td>\n",
       "    </tr>\n",
       "    <tr>\n",
       "        <td>Gr6_8_Keep_Pace_Read__</td>\n",
       "        <td>VARCHAR </td>\n",
       "        <td>4</td>\n",
       "    </tr>\n",
       "    <tr>\n",
       "        <td>Gr_8_Explore_Math__</td>\n",
       "        <td>VARCHAR </td>\n",
       "        <td>4</td>\n",
       "    </tr>\n",
       "    <tr>\n",
       "        <td>Gr_8_Explore_Read__</td>\n",
       "        <td>VARCHAR </td>\n",
       "        <td>4</td>\n",
       "    </tr>\n",
       "    <tr>\n",
       "        <td>Graduation_Rate__</td>\n",
       "        <td>VARCHAR </td>\n",
       "        <td>4</td>\n",
       "    </tr>\n",
       "    <tr>\n",
       "        <td>HEALTHY_SCHOOL_CERTIFIED</td>\n",
       "        <td>VARCHAR </td>\n",
       "        <td>3</td>\n",
       "    </tr>\n",
       "    <tr>\n",
       "        <td>ISAT_Exceeding_Math__</td>\n",
       "        <td>DECIMAL </td>\n",
       "        <td>4</td>\n",
       "    </tr>\n",
       "    <tr>\n",
       "        <td>ISAT_Exceeding_Reading__</td>\n",
       "        <td>DECIMAL </td>\n",
       "        <td>4</td>\n",
       "    </tr>\n",
       "    <tr>\n",
       "        <td>ISAT_Value_Add_Color_Math</td>\n",
       "        <td>VARCHAR </td>\n",
       "        <td>6</td>\n",
       "    </tr>\n",
       "    <tr>\n",
       "        <td>ISAT_Value_Add_Color_Read</td>\n",
       "        <td>VARCHAR </td>\n",
       "        <td>6</td>\n",
       "    </tr>\n",
       "    <tr>\n",
       "        <td>ISAT_Value_Add_Math</td>\n",
       "        <td>DECIMAL </td>\n",
       "        <td>3</td>\n",
       "    </tr>\n",
       "    <tr>\n",
       "        <td>ISAT_Value_Add_Read</td>\n",
       "        <td>DECIMAL </td>\n",
       "        <td>3</td>\n",
       "    </tr>\n",
       "    <tr>\n",
       "        <td>Individualized_Education_Program_Compliance_Rate</td>\n",
       "        <td>VARCHAR </td>\n",
       "        <td>7</td>\n",
       "    </tr>\n",
       "    <tr>\n",
       "        <td>Instruction_Icon</td>\n",
       "        <td>VARCHAR </td>\n",
       "        <td>11</td>\n",
       "    </tr>\n",
       "    <tr>\n",
       "        <td>Instruction_Score</td>\n",
       "        <td>SMALLINT</td>\n",
       "        <td>2</td>\n",
       "    </tr>\n",
       "    <tr>\n",
       "        <td>Latitude</td>\n",
       "        <td>DECIMAL </td>\n",
       "        <td>18</td>\n",
       "    </tr>\n",
       "    <tr>\n",
       "        <td>Leaders_Icon</td>\n",
       "        <td>VARCHAR </td>\n",
       "        <td>11</td>\n",
       "    </tr>\n",
       "    <tr>\n",
       "        <td>Leaders_Score</td>\n",
       "        <td>VARCHAR </td>\n",
       "        <td>3</td>\n",
       "    </tr>\n",
       "    <tr>\n",
       "        <td>Link</td>\n",
       "        <td>VARCHAR </td>\n",
       "        <td>78</td>\n",
       "    </tr>\n",
       "    <tr>\n",
       "        <td>Location</td>\n",
       "        <td>VARCHAR </td>\n",
       "        <td>27</td>\n",
       "    </tr>\n",
       "    <tr>\n",
       "        <td>Longitude</td>\n",
       "        <td>DECIMAL </td>\n",
       "        <td>18</td>\n",
       "    </tr>\n",
       "    <tr>\n",
       "        <td>NAME_OF_SCHOOL</td>\n",
       "        <td>VARCHAR </td>\n",
       "        <td>65</td>\n",
       "    </tr>\n",
       "    <tr>\n",
       "        <td>Net_Change_EXPLORE_and_PLAN</td>\n",
       "        <td>VARCHAR </td>\n",
       "        <td>3</td>\n",
       "    </tr>\n",
       "    <tr>\n",
       "        <td>Net_Change_PLAN_and_ACT</td>\n",
       "        <td>VARCHAR </td>\n",
       "        <td>3</td>\n",
       "    </tr>\n",
       "    <tr>\n",
       "        <td>Network_Manager</td>\n",
       "        <td>VARCHAR </td>\n",
       "        <td>40</td>\n",
       "    </tr>\n",
       "    <tr>\n",
       "        <td>Parent_Engagement_Icon</td>\n",
       "        <td>VARCHAR </td>\n",
       "        <td>7</td>\n",
       "    </tr>\n",
       "    <tr>\n",
       "        <td>Parent_Engagement_Score</td>\n",
       "        <td>VARCHAR </td>\n",
       "        <td>3</td>\n",
       "    </tr>\n",
       "    <tr>\n",
       "        <td>Parent_Environment_Icon</td>\n",
       "        <td>VARCHAR </td>\n",
       "        <td>7</td>\n",
       "    </tr>\n",
       "    <tr>\n",
       "        <td>Parent_Environment_Score</td>\n",
       "        <td>VARCHAR </td>\n",
       "        <td>3</td>\n",
       "    </tr>\n",
       "    <tr>\n",
       "        <td>Phone_Number</td>\n",
       "        <td>VARCHAR </td>\n",
       "        <td>14</td>\n",
       "    </tr>\n",
       "    <tr>\n",
       "        <td>Pk_2_Literacy__</td>\n",
       "        <td>VARCHAR </td>\n",
       "        <td>4</td>\n",
       "    </tr>\n",
       "    <tr>\n",
       "        <td>Pk_2_Math__</td>\n",
       "        <td>VARCHAR </td>\n",
       "        <td>4</td>\n",
       "    </tr>\n",
       "    <tr>\n",
       "        <td>Police_District</td>\n",
       "        <td>SMALLINT</td>\n",
       "        <td>2</td>\n",
       "    </tr>\n",
       "    <tr>\n",
       "        <td>Rate_of_Misconducts__per_100_students_</td>\n",
       "        <td>DECIMAL </td>\n",
       "        <td>5</td>\n",
       "    </tr>\n",
       "    <tr>\n",
       "        <td>SAFETY_SCORE</td>\n",
       "        <td>SMALLINT</td>\n",
       "        <td>2</td>\n",
       "    </tr>\n",
       "    <tr>\n",
       "        <td>Safety_Icon</td>\n",
       "        <td>VARCHAR </td>\n",
       "        <td>11</td>\n",
       "    </tr>\n",
       "    <tr>\n",
       "        <td>School_ID</td>\n",
       "        <td>INTEGER </td>\n",
       "        <td>4</td>\n",
       "    </tr>\n",
       "    <tr>\n",
       "        <td>State</td>\n",
       "        <td>VARCHAR </td>\n",
       "        <td>2</td>\n",
       "    </tr>\n",
       "    <tr>\n",
       "        <td>Street_Address</td>\n",
       "        <td>VARCHAR </td>\n",
       "        <td>30</td>\n",
       "    </tr>\n",
       "    <tr>\n",
       "        <td>Students_Passing__Algebra__</td>\n",
       "        <td>VARCHAR </td>\n",
       "        <td>4</td>\n",
       "    </tr>\n",
       "    <tr>\n",
       "        <td>Students_Taking__Algebra__</td>\n",
       "        <td>VARCHAR </td>\n",
       "        <td>4</td>\n",
       "    </tr>\n",
       "    <tr>\n",
       "        <td>Teachers_Icon</td>\n",
       "        <td>VARCHAR </td>\n",
       "        <td>11</td>\n",
       "    </tr>\n",
       "    <tr>\n",
       "        <td>Teachers_Score</td>\n",
       "        <td>VARCHAR </td>\n",
       "        <td>3</td>\n",
       "    </tr>\n",
       "    <tr>\n",
       "        <td>Track_Schedule</td>\n",
       "        <td>VARCHAR </td>\n",
       "        <td>12</td>\n",
       "    </tr>\n",
       "    <tr>\n",
       "        <td>Ward</td>\n",
       "        <td>SMALLINT</td>\n",
       "        <td>2</td>\n",
       "    </tr>\n",
       "    <tr>\n",
       "        <td>X_COORDINATE</td>\n",
       "        <td>DECIMAL </td>\n",
       "        <td>13</td>\n",
       "    </tr>\n",
       "    <tr>\n",
       "        <td>Y_COORDINATE</td>\n",
       "        <td>DECIMAL </td>\n",
       "        <td>13</td>\n",
       "    </tr>\n",
       "    <tr>\n",
       "        <td>ZIP_Code</td>\n",
       "        <td>INTEGER </td>\n",
       "        <td>4</td>\n",
       "    </tr>\n",
       "</table>"
      ],
      "text/plain": [
       "[('10th Grade PLAN (2009)', 'VARCHAR ', 4),\n",
       " ('10th Grade PLAN (2010)', 'VARCHAR ', 4),\n",
       " ('11th Grade Average ACT (2011)', 'VARCHAR ', 4),\n",
       " ('9th Grade EXPLORE (2009)', 'VARCHAR ', 4),\n",
       " ('9th Grade EXPLORE (2010)', 'VARCHAR ', 4),\n",
       " ('AVERAGE_STUDENT_ATTENDANCE', 'VARCHAR ', 6),\n",
       " ('Adequate_Yearly_Progress_Made_', 'VARCHAR ', 3),\n",
       " ('Average_Teacher_Attendance', 'VARCHAR ', 6),\n",
       " ('COLLEGE_ENROLLMENT', 'SMALLINT', 2),\n",
       " ('COMMUNITY_AREA_NAME', 'VARCHAR ', 22),\n",
       " ('COMMUNITY_AREA_NUMBER', 'SMALLINT', 2),\n",
       " ('CPS_Performance_Policy_Level', 'VARCHAR ', 15),\n",
       " ('CPS_Performance_Policy_Status', 'VARCHAR ', 16),\n",
       " ('City', 'VARCHAR ', 7),\n",
       " ('Collaborative_Name', 'VARCHAR ', 34),\n",
       " ('College_Eligibility__', 'VARCHAR ', 4),\n",
       " ('College_Enrollment_Rate__', 'VARCHAR ', 4),\n",
       " ('Elementary, Middle, or High School', 'VARCHAR ', 2),\n",
       " ('Environment_Icon', 'VARCHAR ', 11),\n",
       " ('Environment_Score', 'SMALLINT', 2),\n",
       " ('Family_Involvement_Icon', 'VARCHAR ', 11),\n",
       " ('Family_Involvement_Score', 'VARCHAR ', 3),\n",
       " ('Freshman_on_Track_Rate__', 'VARCHAR ', 4),\n",
       " ('General_Services_Route', 'SMALLINT', 2),\n",
       " ('Gr3_5_Grade_Level_Math__', 'VARCHAR ', 4),\n",
       " ('Gr3_5_Grade_Level_Read__', 'VARCHAR ', 4),\n",
       " ('Gr3_5_Keep_Pace_Math__', 'VARCHAR ', 4),\n",
       " ('Gr3_5_Keep_Pace_Read__', 'VARCHAR ', 4),\n",
       " ('Gr6_8_Grade_Level_Math__', 'VARCHAR ', 4),\n",
       " ('Gr6_8_Grade_Level_Read__', 'VARCHAR ', 4),\n",
       " ('Gr6_8_Keep_Pace_Math_', 'VARCHAR ', 4),\n",
       " ('Gr6_8_Keep_Pace_Read__', 'VARCHAR ', 4),\n",
       " ('Gr_8_Explore_Math__', 'VARCHAR ', 4),\n",
       " ('Gr_8_Explore_Read__', 'VARCHAR ', 4),\n",
       " ('Graduation_Rate__', 'VARCHAR ', 4),\n",
       " ('HEALTHY_SCHOOL_CERTIFIED', 'VARCHAR ', 3),\n",
       " ('ISAT_Exceeding_Math__', 'DECIMAL ', 4),\n",
       " ('ISAT_Exceeding_Reading__', 'DECIMAL ', 4),\n",
       " ('ISAT_Value_Add_Color_Math', 'VARCHAR ', 6),\n",
       " ('ISAT_Value_Add_Color_Read', 'VARCHAR ', 6),\n",
       " ('ISAT_Value_Add_Math', 'DECIMAL ', 3),\n",
       " ('ISAT_Value_Add_Read', 'DECIMAL ', 3),\n",
       " ('Individualized_Education_Program_Compliance_Rate', 'VARCHAR ', 7),\n",
       " ('Instruction_Icon', 'VARCHAR ', 11),\n",
       " ('Instruction_Score', 'SMALLINT', 2),\n",
       " ('Latitude', 'DECIMAL ', 18),\n",
       " ('Leaders_Icon', 'VARCHAR ', 11),\n",
       " ('Leaders_Score', 'VARCHAR ', 3),\n",
       " ('Link', 'VARCHAR ', 78),\n",
       " ('Location', 'VARCHAR ', 27),\n",
       " ('Longitude', 'DECIMAL ', 18),\n",
       " ('NAME_OF_SCHOOL', 'VARCHAR ', 65),\n",
       " ('Net_Change_EXPLORE_and_PLAN', 'VARCHAR ', 3),\n",
       " ('Net_Change_PLAN_and_ACT', 'VARCHAR ', 3),\n",
       " ('Network_Manager', 'VARCHAR ', 40),\n",
       " ('Parent_Engagement_Icon', 'VARCHAR ', 7),\n",
       " ('Parent_Engagement_Score', 'VARCHAR ', 3),\n",
       " ('Parent_Environment_Icon', 'VARCHAR ', 7),\n",
       " ('Parent_Environment_Score', 'VARCHAR ', 3),\n",
       " ('Phone_Number', 'VARCHAR ', 14),\n",
       " ('Pk_2_Literacy__', 'VARCHAR ', 4),\n",
       " ('Pk_2_Math__', 'VARCHAR ', 4),\n",
       " ('Police_District', 'SMALLINT', 2),\n",
       " ('Rate_of_Misconducts__per_100_students_', 'DECIMAL ', 5),\n",
       " ('SAFETY_SCORE', 'SMALLINT', 2),\n",
       " ('Safety_Icon', 'VARCHAR ', 11),\n",
       " ('School_ID', 'INTEGER ', 4),\n",
       " ('State', 'VARCHAR ', 2),\n",
       " ('Street_Address', 'VARCHAR ', 30),\n",
       " ('Students_Passing__Algebra__', 'VARCHAR ', 4),\n",
       " ('Students_Taking__Algebra__', 'VARCHAR ', 4),\n",
       " ('Teachers_Icon', 'VARCHAR ', 11),\n",
       " ('Teachers_Score', 'VARCHAR ', 3),\n",
       " ('Track_Schedule', 'VARCHAR ', 12),\n",
       " ('Ward', 'SMALLINT', 2),\n",
       " ('X_COORDINATE', 'DECIMAL ', 13),\n",
       " ('Y_COORDINATE', 'DECIMAL ', 13),\n",
       " ('ZIP_Code', 'INTEGER ', 4)]"
      ]
     },
     "execution_count": 15,
     "metadata": {},
     "output_type": "execute_result"
    }
   ],
   "source": [
    "# type in your query to retrieve all column names in the table along with their datatypes and length\n",
    "%sql select distinct(NAME),COLTYPE,LENGTH from SYSIBM.SYSCOLUMNS where TBNAME = 'CHICAGO_PUBLIC_SCHOOLS'"
   ]
  },
  {
   "cell_type": "markdown",
   "metadata": {},
   "source": [
    "\n",
    "##### What is the average school Safety Score? "
   ]
  },
  {
   "cell_type": "code",
   "execution_count": 10,
   "metadata": {},
   "outputs": [
    {
     "name": "stdout",
     "output_type": "stream",
     "text": [
      " * ibm_db_sa://hkq36638:***@dashdb-txn-sbox-yp-lon02-04.services.eu-gb.bluemix.net:50000/BLUDB\n",
      "Done.\n"
     ]
    },
    {
     "data": {
      "text/html": [
       "<table>\n",
       "    <tr>\n",
       "        <th>1</th>\n",
       "    </tr>\n",
       "    <tr>\n",
       "        <td>49.504873</td>\n",
       "    </tr>\n",
       "</table>"
      ],
      "text/plain": [
       "[(Decimal('49.504873'),)]"
      ]
     },
     "execution_count": 10,
     "metadata": {},
     "output_type": "execute_result"
    }
   ],
   "source": [
    "%sql select AVG(SAFETY_SCORE) from CHICAGO_PUBLIC_SCHOOLS"
   ]
  },
  {
   "cell_type": "markdown",
   "metadata": {},
   "source": [
    "\n",
    "##### List the top 5 Community Areas by average College Enrollment [number of students] "
   ]
  },
  {
   "cell_type": "code",
   "execution_count": 13,
   "metadata": {},
   "outputs": [
    {
     "name": "stdout",
     "output_type": "stream",
     "text": [
      " * ibm_db_sa://hkq36638:***@dashdb-txn-sbox-yp-lon02-04.services.eu-gb.bluemix.net:50000/BLUDB\n",
      "Done.\n"
     ]
    },
    {
     "data": {
      "text/html": [
       "<table>\n",
       "    <tr>\n",
       "        <th>community_area_name</th>\n",
       "        <th>avg_enrollment</th>\n",
       "    </tr>\n",
       "    <tr>\n",
       "        <td>ARCHER HEIGHTS</td>\n",
       "        <td>2411.500000</td>\n",
       "    </tr>\n",
       "    <tr>\n",
       "        <td>MONTCLARE</td>\n",
       "        <td>1317.000000</td>\n",
       "    </tr>\n",
       "    <tr>\n",
       "        <td>WEST ELSDON</td>\n",
       "        <td>1233.333333</td>\n",
       "    </tr>\n",
       "    <tr>\n",
       "        <td>BRIGHTON PARK</td>\n",
       "        <td>1205.875000</td>\n",
       "    </tr>\n",
       "    <tr>\n",
       "        <td>BELMONT CRAGIN</td>\n",
       "        <td>1198.833333</td>\n",
       "    </tr>\n",
       "</table>"
      ],
      "text/plain": [
       "[('ARCHER HEIGHTS', Decimal('2411.500000')),\n",
       " ('MONTCLARE', Decimal('1317.000000')),\n",
       " ('WEST ELSDON', Decimal('1233.333333')),\n",
       " ('BRIGHTON PARK', Decimal('1205.875000')),\n",
       " ('BELMONT CRAGIN', Decimal('1198.833333'))]"
      ]
     },
     "execution_count": 13,
     "metadata": {},
     "output_type": "execute_result"
    }
   ],
   "source": [
    "%sql select COMMUNITY_AREA_NAME,AVG(COLLEGE_ENROLLMENT) \\\n",
    "as AVG_ENROLLMENT from SCHOOLS\\\n",
    "group by COMMUNITY_AREA_NAME\\\n",
    "order by AVG_ENROLLMENT DESC LIMIT 5\n"
   ]
  },
  {
   "cell_type": "markdown",
   "metadata": {},
   "source": [
    "\n",
    "##### Use a sub-query to determine which Community Area has the least value for school Safety Score? "
   ]
  },
  {
   "cell_type": "code",
   "execution_count": 14,
   "metadata": {},
   "outputs": [
    {
     "name": "stdout",
     "output_type": "stream",
     "text": [
      " * ibm_db_sa://hkq36638:***@dashdb-txn-sbox-yp-lon02-04.services.eu-gb.bluemix.net:50000/BLUDB\n",
      "Done.\n"
     ]
    },
    {
     "data": {
      "text/html": [
       "<table>\n",
       "    <tr>\n",
       "        <th>community_area_name</th>\n",
       "        <th>safety_score</th>\n",
       "    </tr>\n",
       "    <tr>\n",
       "        <td>WASHINGTON PARK</td>\n",
       "        <td>1</td>\n",
       "    </tr>\n",
       "</table>"
      ],
      "text/plain": [
       "[('WASHINGTON PARK', 1)]"
      ]
     },
     "execution_count": 14,
     "metadata": {},
     "output_type": "execute_result"
    }
   ],
   "source": [
    "%sql select COMMUNITY_AREA_NAME,SAFETY_SCORE\\\n",
    "from CHICAGO_PUBLIC_SCHOOLS\\\n",
    "where SAFETY_SCORE = (select MIN(SAFETY_SCORE) \\\n",
    "from CHICAGO_PUBLIC_SCHOOLS)"
   ]
  },
  {
   "cell_type": "markdown",
   "metadata": {},
   "source": [
    "\n",
    "##### [Without using an explicit JOIN operator] Find the Per Capita Income of the Community Area which has a school Safety Score of 1."
   ]
  },
  {
   "cell_type": "code",
   "execution_count": 16,
   "metadata": {},
   "outputs": [
    {
     "name": "stdout",
     "output_type": "stream",
     "text": [
      " * ibm_db_sa://hkq36638:***@dashdb-txn-sbox-yp-lon02-04.services.eu-gb.bluemix.net:50000/BLUDB\n",
      "Done.\n"
     ]
    },
    {
     "data": {
      "text/html": [
       "<table>\n",
       "    <tr>\n",
       "        <th>name</th>\n",
       "        <th>coltype</th>\n",
       "        <th>length</th>\n",
       "    </tr>\n",
       "    <tr>\n",
       "        <td>COMMUNITY_AREA_NAME</td>\n",
       "        <td>VARCHAR </td>\n",
       "        <td>22</td>\n",
       "    </tr>\n",
       "    <tr>\n",
       "        <td>COMMUNITY_AREA_NUMBER</td>\n",
       "        <td>SMALLINT</td>\n",
       "        <td>2</td>\n",
       "    </tr>\n",
       "    <tr>\n",
       "        <td>HARDSHIP_INDEX</td>\n",
       "        <td>SMALLINT</td>\n",
       "        <td>2</td>\n",
       "    </tr>\n",
       "    <tr>\n",
       "        <td>PERCENT_AGED_16__UNEMPLOYED</td>\n",
       "        <td>DECIMAL </td>\n",
       "        <td>4</td>\n",
       "    </tr>\n",
       "    <tr>\n",
       "        <td>PERCENT_AGED_25__WITHOUT_HIGH_SCHOOL_DIPLOMA</td>\n",
       "        <td>DECIMAL </td>\n",
       "        <td>4</td>\n",
       "    </tr>\n",
       "    <tr>\n",
       "        <td>PERCENT_AGED_UNDER_18_OR_OVER_64</td>\n",
       "        <td>DECIMAL </td>\n",
       "        <td>4</td>\n",
       "    </tr>\n",
       "    <tr>\n",
       "        <td>PERCENT_HOUSEHOLDS_BELOW_POVERTY</td>\n",
       "        <td>DECIMAL </td>\n",
       "        <td>4</td>\n",
       "    </tr>\n",
       "    <tr>\n",
       "        <td>PERCENT_OF_HOUSING_CROWDED</td>\n",
       "        <td>DECIMAL </td>\n",
       "        <td>4</td>\n",
       "    </tr>\n",
       "    <tr>\n",
       "        <td>PER_CAPITA_INCOME</td>\n",
       "        <td>INTEGER </td>\n",
       "        <td>4</td>\n",
       "    </tr>\n",
       "</table>"
      ],
      "text/plain": [
       "[('COMMUNITY_AREA_NAME', 'VARCHAR ', 22),\n",
       " ('COMMUNITY_AREA_NUMBER', 'SMALLINT', 2),\n",
       " ('HARDSHIP_INDEX', 'SMALLINT', 2),\n",
       " ('PERCENT_AGED_16__UNEMPLOYED', 'DECIMAL ', 4),\n",
       " ('PERCENT_AGED_25__WITHOUT_HIGH_SCHOOL_DIPLOMA', 'DECIMAL ', 4),\n",
       " ('PERCENT_AGED_UNDER_18_OR_OVER_64', 'DECIMAL ', 4),\n",
       " ('PERCENT_HOUSEHOLDS_BELOW_POVERTY', 'DECIMAL ', 4),\n",
       " ('PERCENT_OF_HOUSING_CROWDED', 'DECIMAL ', 4),\n",
       " ('PER_CAPITA_INCOME', 'INTEGER ', 4)]"
      ]
     },
     "execution_count": 16,
     "metadata": {},
     "output_type": "execute_result"
    }
   ],
   "source": [
    "# type in your query to retrieve all column names in the table along with their datatypes and length\n",
    "%sql select distinct(NAME),COLTYPE,LENGTH from SYSIBM.SYSCOLUMNS where TBNAME = 'CENSUS_DATA'"
   ]
  },
  {
   "cell_type": "code",
   "execution_count": 22,
   "metadata": {},
   "outputs": [
    {
     "name": "stdout",
     "output_type": "stream",
     "text": [
      " * ibm_db_sa://hkq36638:***@dashdb-txn-sbox-yp-lon02-04.services.eu-gb.bluemix.net:50000/BLUDB\n",
      "Done.\n"
     ]
    },
    {
     "data": {
      "text/html": [
       "<table>\n",
       "    <tr>\n",
       "        <th>per_capita_income</th>\n",
       "        <th>community_area_name</th>\n",
       "    </tr>\n",
       "    <tr>\n",
       "        <td>13785</td>\n",
       "        <td>WASHINGTON PARK</td>\n",
       "    </tr>\n",
       "</table>"
      ],
      "text/plain": [
       "[(13785, 'WASHINGTON PARK')]"
      ]
     },
     "execution_count": 22,
     "metadata": {},
     "output_type": "execute_result"
    }
   ],
   "source": [
    "#Problem 10/PER_CAPITA_INCOME\n",
    "%sql select CS.PER_CAPITA_INCOME,  CPS.COMMUNITY_AREA_NAME\\\n",
    "from CENSUS_DATA CS,CHICAGO_PUBLIC_SCHOOLS CPS\\\n",
    "where CS.COMMUNITY_AREA_NUMBER = CPS.COMMUNITY_AREA_NUMBER \\\n",
    "AND CPS.SAFETY_SCORE= 1 LIMIT 1"
   ]
  },
  {
   "cell_type": "code",
   "execution_count": 39,
   "metadata": {},
   "outputs": [
    {
     "name": "stdout",
     "output_type": "stream",
     "text": [
      " * ibm_db_sa://hkq36638:***@dashdb-txn-sbox-yp-lon02-04.services.eu-gb.bluemix.net:50000/BLUDB\n",
      "Done.\n"
     ]
    },
    {
     "data": {
      "text/html": [
       "<table>\n",
       "    <tr>\n",
       "        <th>per_capita_income</th>\n",
       "        <th>community_area_number</th>\n",
       "        <th>community_area_name</th>\n",
       "    </tr>\n",
       "    <tr>\n",
       "        <td>13785</td>\n",
       "        <td>40</td>\n",
       "        <td>Washington Park</td>\n",
       "    </tr>\n",
       "</table>"
      ],
      "text/plain": [
       "[(13785, 40, 'Washington Park')]"
      ]
     },
     "execution_count": 39,
     "metadata": {},
     "output_type": "execute_result"
    }
   ],
   "source": [
    "#Problem10/PER_CAPITA_INCOME\n",
    "%sql select PER_CAPITA_INCOME, COMMUNITY_AREA_NUMBER,COMMUNITY_AREA_NAME\\\n",
    "from CENSUS_DATA\\\n",
    "WHERE COMMUNITY_AREA_NUMBER IN (select COMMUNITY_AREA_NUMBER from CHICAGO_PUBLIC_SCHOOLS\\\n",
    "where SAFETY_SCORE=1)"
   ]
  },
  {
   "cell_type": "code",
   "execution_count": 40,
   "metadata": {},
   "outputs": [
    {
     "name": "stdout",
     "output_type": "stream",
     "text": [
      " * ibm_db_sa://hkq36638:***@dashdb-txn-sbox-yp-lon02-04.services.eu-gb.bluemix.net:50000/BLUDB\n",
      "Done.\n"
     ]
    },
    {
     "data": {
      "text/html": [
       "<table>\n",
       "    <tr>\n",
       "        <th>per_capita_income</th>\n",
       "    </tr>\n",
       "    <tr>\n",
       "        <td>13785</td>\n",
       "    </tr>\n",
       "</table>"
      ],
      "text/plain": [
       "[(13785,)]"
      ]
     },
     "execution_count": 40,
     "metadata": {},
     "output_type": "execute_result"
    }
   ],
   "source": [
    "%sql select PER_CAPITA_INCOME\\\n",
    "from CENSUS_DATA\\\n",
    "where COMMUNITY_AREA_NUMBER IN (select COMMUNITY_AREA_NUMBER \\\n",
    "from CHICAGO_PUBLIC_SCHOOLS where SAFETY_SCORE = 1)"
   ]
  },
  {
   "cell_type": "code",
   "execution_count": 12,
   "metadata": {},
   "outputs": [
    {
     "name": "stdout",
     "output_type": "stream",
     "text": [
      " * ibm_db_sa://hkq36638:***@dashdb-txn-sbox-yp-lon02-04.services.eu-gb.bluemix.net:50000/BLUDB\n",
      "Done.\n"
     ]
    },
    {
     "data": {
      "text/html": [
       "<table>\n",
       "    <tr>\n",
       "        <th>1</th>\n",
       "    </tr>\n",
       "    <tr>\n",
       "        <td>533</td>\n",
       "    </tr>\n",
       "</table>"
      ],
      "text/plain": [
       "[(Decimal('533'),)]"
      ]
     },
     "execution_count": 12,
     "metadata": {},
     "output_type": "execute_result"
    }
   ],
   "source": [
    "#Problem1/TotalNumber\n",
    "%sql select count(*) from CHICAGO_CRIME_DATA "
   ]
  },
  {
   "cell_type": "code",
   "execution_count": 14,
   "metadata": {},
   "outputs": [
    {
     "name": "stdout",
     "output_type": "stream",
     "text": [
      " * ibm_db_sa://hkq36638:***@dashdb-txn-sbox-yp-lon02-04.services.eu-gb.bluemix.net:50000/BLUDB\n",
      "Done.\n"
     ]
    },
    {
     "data": {
      "text/html": [
       "<table>\n",
       "    <tr>\n",
       "        <th>id</th>\n",
       "        <th>case_number</th>\n",
       "        <th>DATE</th>\n",
       "        <th>block</th>\n",
       "        <th>iucr</th>\n",
       "        <th>primary_type</th>\n",
       "        <th>description</th>\n",
       "        <th>location_description</th>\n",
       "        <th>arrest</th>\n",
       "        <th>domestic</th>\n",
       "        <th>beat</th>\n",
       "        <th>district</th>\n",
       "        <th>ward</th>\n",
       "        <th>community_area_number</th>\n",
       "        <th>fbicode</th>\n",
       "        <th>x_coordinate</th>\n",
       "        <th>y_coordinate</th>\n",
       "        <th>YEAR</th>\n",
       "        <th>updatedon</th>\n",
       "        <th>latitude</th>\n",
       "        <th>longitude</th>\n",
       "        <th>location</th>\n",
       "    </tr>\n",
       "    <tr>\n",
       "        <td>3512276</td>\n",
       "        <td>HK587712</td>\n",
       "        <td>2004-08-28 17:50:56</td>\n",
       "        <td>047XX S KEDZIE AVE</td>\n",
       "        <td>890</td>\n",
       "        <td>THEFT</td>\n",
       "        <td>FROM BUILDING</td>\n",
       "        <td>SMALL RETAIL STORE</td>\n",
       "        <td>FALSE</td>\n",
       "        <td>FALSE</td>\n",
       "        <td>911</td>\n",
       "        <td>9</td>\n",
       "        <td>14</td>\n",
       "        <td>58</td>\n",
       "        <td>6</td>\n",
       "        <td>1155838</td>\n",
       "        <td>1873050</td>\n",
       "        <td>2004</td>\n",
       "        <td>2018-02-10 15:50:01</td>\n",
       "        <td>41.80744050</td>\n",
       "        <td>-87.70395585</td>\n",
       "        <td>(41.8074405, -87.703955849)</td>\n",
       "    </tr>\n",
       "    <tr>\n",
       "        <td>3406613</td>\n",
       "        <td>HK456306</td>\n",
       "        <td>2004-06-26 12:40:00</td>\n",
       "        <td>009XX N CENTRAL PARK AVE</td>\n",
       "        <td>820</td>\n",
       "        <td>THEFT</td>\n",
       "        <td>$500 AND UNDER</td>\n",
       "        <td>OTHER</td>\n",
       "        <td>FALSE</td>\n",
       "        <td>FALSE</td>\n",
       "        <td>1112</td>\n",
       "        <td>11</td>\n",
       "        <td>27</td>\n",
       "        <td>23</td>\n",
       "        <td>6</td>\n",
       "        <td>1152206</td>\n",
       "        <td>1906127</td>\n",
       "        <td>2004</td>\n",
       "        <td>2018-02-28 15:56:25</td>\n",
       "        <td>41.89827996</td>\n",
       "        <td>-87.71640551</td>\n",
       "        <td>(41.898279962, -87.716405505)</td>\n",
       "    </tr>\n",
       "    <tr>\n",
       "        <td>8002131</td>\n",
       "        <td>HT233595</td>\n",
       "        <td>2011-04-04 05:45:00</td>\n",
       "        <td>043XX S WABASH AVE</td>\n",
       "        <td>820</td>\n",
       "        <td>THEFT</td>\n",
       "        <td>$500 AND UNDER</td>\n",
       "        <td>NURSING HOME/RETIREMENT HOME</td>\n",
       "        <td>FALSE</td>\n",
       "        <td>FALSE</td>\n",
       "        <td>221</td>\n",
       "        <td>2</td>\n",
       "        <td>3</td>\n",
       "        <td>38</td>\n",
       "        <td>6</td>\n",
       "        <td>1177436</td>\n",
       "        <td>1876313</td>\n",
       "        <td>2011</td>\n",
       "        <td>2018-02-10 15:50:01</td>\n",
       "        <td>41.81593313</td>\n",
       "        <td>-87.62464213</td>\n",
       "        <td>(41.815933131, -87.624642127)</td>\n",
       "    </tr>\n",
       "    <tr>\n",
       "        <td>7903289</td>\n",
       "        <td>HT133522</td>\n",
       "        <td>2010-12-30 16:30:00</td>\n",
       "        <td>083XX S KINGSTON AVE</td>\n",
       "        <td>840</td>\n",
       "        <td>THEFT</td>\n",
       "        <td>FINANCIAL ID THEFT: OVER $300</td>\n",
       "        <td>RESIDENCE</td>\n",
       "        <td>FALSE</td>\n",
       "        <td>FALSE</td>\n",
       "        <td>423</td>\n",
       "        <td>4</td>\n",
       "        <td>7</td>\n",
       "        <td>46</td>\n",
       "        <td>6</td>\n",
       "        <td>1194622</td>\n",
       "        <td>1850125</td>\n",
       "        <td>2010</td>\n",
       "        <td>2018-02-10 15:50:01</td>\n",
       "        <td>41.74366532</td>\n",
       "        <td>-87.56246276</td>\n",
       "        <td>(41.743665322, -87.562462756)</td>\n",
       "    </tr>\n",
       "    <tr>\n",
       "        <td>10402076</td>\n",
       "        <td>HZ138551</td>\n",
       "        <td>2016-02-02 19:30:00</td>\n",
       "        <td>033XX W 66TH ST</td>\n",
       "        <td>820</td>\n",
       "        <td>THEFT</td>\n",
       "        <td>$500 AND UNDER</td>\n",
       "        <td>ALLEY</td>\n",
       "        <td>FALSE</td>\n",
       "        <td>FALSE</td>\n",
       "        <td>831</td>\n",
       "        <td>8</td>\n",
       "        <td>15</td>\n",
       "        <td>66</td>\n",
       "        <td>6</td>\n",
       "        <td>1155240</td>\n",
       "        <td>1860661</td>\n",
       "        <td>2016</td>\n",
       "        <td>2018-02-10 15:50:01</td>\n",
       "        <td>41.77345530</td>\n",
       "        <td>-87.70648047</td>\n",
       "        <td>(41.773455295, -87.706480471)</td>\n",
       "    </tr>\n",
       "    <tr>\n",
       "        <td>7732712</td>\n",
       "        <td>HS540106</td>\n",
       "        <td>2010-09-29 07:59:00</td>\n",
       "        <td>006XX W CHICAGO AVE</td>\n",
       "        <td>810</td>\n",
       "        <td>THEFT</td>\n",
       "        <td>OVER $500</td>\n",
       "        <td>PARKING LOT/GARAGE(NON.RESID.)</td>\n",
       "        <td>FALSE</td>\n",
       "        <td>FALSE</td>\n",
       "        <td>1323</td>\n",
       "        <td>12</td>\n",
       "        <td>27</td>\n",
       "        <td>24</td>\n",
       "        <td>6</td>\n",
       "        <td>1171668</td>\n",
       "        <td>1905607</td>\n",
       "        <td>2010</td>\n",
       "        <td>2018-02-10 15:50:01</td>\n",
       "        <td>41.89644677</td>\n",
       "        <td>-87.64493868</td>\n",
       "        <td>(41.896446772, -87.644938678)</td>\n",
       "    </tr>\n",
       "    <tr>\n",
       "        <td>10769475</td>\n",
       "        <td>HZ534771</td>\n",
       "        <td>2016-11-30 01:15:00</td>\n",
       "        <td>050XX N KEDZIE AVE</td>\n",
       "        <td>810</td>\n",
       "        <td>THEFT</td>\n",
       "        <td>OVER $500</td>\n",
       "        <td>STREET</td>\n",
       "        <td>FALSE</td>\n",
       "        <td>FALSE</td>\n",
       "        <td>1713</td>\n",
       "        <td>17</td>\n",
       "        <td>33</td>\n",
       "        <td>14</td>\n",
       "        <td>6</td>\n",
       "        <td>1154133</td>\n",
       "        <td>1933314</td>\n",
       "        <td>2016</td>\n",
       "        <td>2018-02-10 15:50:01</td>\n",
       "        <td>41.97284491</td>\n",
       "        <td>-87.70860008</td>\n",
       "        <td>(41.972844913, -87.708600079)</td>\n",
       "    </tr>\n",
       "    <tr>\n",
       "        <td>4494340</td>\n",
       "        <td>HL793243</td>\n",
       "        <td>2005-12-16 16:45:00</td>\n",
       "        <td>005XX E PERSHING RD</td>\n",
       "        <td>860</td>\n",
       "        <td>THEFT</td>\n",
       "        <td>RETAIL THEFT</td>\n",
       "        <td>GROCERY FOOD STORE</td>\n",
       "        <td>TRUE</td>\n",
       "        <td>FALSE</td>\n",
       "        <td>213</td>\n",
       "        <td>2</td>\n",
       "        <td>3</td>\n",
       "        <td>38</td>\n",
       "        <td>6</td>\n",
       "        <td>1180448</td>\n",
       "        <td>1879234</td>\n",
       "        <td>2005</td>\n",
       "        <td>2018-02-28 15:56:25</td>\n",
       "        <td>41.82387989</td>\n",
       "        <td>-87.61350386</td>\n",
       "        <td>(41.823879885, -87.613503857)</td>\n",
       "    </tr>\n",
       "    <tr>\n",
       "        <td>3778925</td>\n",
       "        <td>HL149610</td>\n",
       "        <td>2005-01-28 17:00:00</td>\n",
       "        <td>100XX S WASHTENAW AVE</td>\n",
       "        <td>810</td>\n",
       "        <td>THEFT</td>\n",
       "        <td>OVER $500</td>\n",
       "        <td>STREET</td>\n",
       "        <td>FALSE</td>\n",
       "        <td>FALSE</td>\n",
       "        <td>2211</td>\n",
       "        <td>22</td>\n",
       "        <td>19</td>\n",
       "        <td>72</td>\n",
       "        <td>6</td>\n",
       "        <td>1160129</td>\n",
       "        <td>1838040</td>\n",
       "        <td>2005</td>\n",
       "        <td>2018-02-28 15:56:25</td>\n",
       "        <td>41.71128051</td>\n",
       "        <td>-87.68917910</td>\n",
       "        <td>(41.711280513, -87.689179097)</td>\n",
       "    </tr>\n",
       "    <tr>\n",
       "        <td>3324217</td>\n",
       "        <td>HK361551</td>\n",
       "        <td>2004-05-13 14:15:00</td>\n",
       "        <td>033XX W BELMONT AVE</td>\n",
       "        <td>820</td>\n",
       "        <td>THEFT</td>\n",
       "        <td>$500 AND UNDER</td>\n",
       "        <td>SMALL RETAIL STORE</td>\n",
       "        <td>FALSE</td>\n",
       "        <td>FALSE</td>\n",
       "        <td>1733</td>\n",
       "        <td>17</td>\n",
       "        <td>35</td>\n",
       "        <td>21</td>\n",
       "        <td>6</td>\n",
       "        <td>1153590</td>\n",
       "        <td>1921084</td>\n",
       "        <td>2004</td>\n",
       "        <td>2018-02-28 15:56:25</td>\n",
       "        <td>41.93929582</td>\n",
       "        <td>-87.71092344</td>\n",
       "        <td>(41.939295821, -87.710923442)</td>\n",
       "    </tr>\n",
       "</table>"
      ],
      "text/plain": [
       "[(3512276, 'HK587712', datetime.datetime(2004, 8, 28, 17, 50, 56), '047XX S KEDZIE AVE', '890', 'THEFT', 'FROM BUILDING', 'SMALL RETAIL STORE', 'FALSE', 'FALSE', 911, 9, 14, 58, '6', 1155838, 1873050, 2004, datetime.datetime(2018, 2, 10, 15, 50, 1), Decimal('41.80744050'), Decimal('-87.70395585'), '(41.8074405, -87.703955849)'),\n",
       " (3406613, 'HK456306', datetime.datetime(2004, 6, 26, 12, 40), '009XX N CENTRAL PARK AVE', '820', 'THEFT', '$500 AND UNDER', 'OTHER', 'FALSE', 'FALSE', 1112, 11, 27, 23, '6', 1152206, 1906127, 2004, datetime.datetime(2018, 2, 28, 15, 56, 25), Decimal('41.89827996'), Decimal('-87.71640551'), '(41.898279962, -87.716405505)'),\n",
       " (8002131, 'HT233595', datetime.datetime(2011, 4, 4, 5, 45), '043XX S WABASH AVE', '820', 'THEFT', '$500 AND UNDER', 'NURSING HOME/RETIREMENT HOME', 'FALSE', 'FALSE', 221, 2, 3, 38, '6', 1177436, 1876313, 2011, datetime.datetime(2018, 2, 10, 15, 50, 1), Decimal('41.81593313'), Decimal('-87.62464213'), '(41.815933131, -87.624642127)'),\n",
       " (7903289, 'HT133522', datetime.datetime(2010, 12, 30, 16, 30), '083XX S KINGSTON AVE', '840', 'THEFT', 'FINANCIAL ID THEFT: OVER $300', 'RESIDENCE', 'FALSE', 'FALSE', 423, 4, 7, 46, '6', 1194622, 1850125, 2010, datetime.datetime(2018, 2, 10, 15, 50, 1), Decimal('41.74366532'), Decimal('-87.56246276'), '(41.743665322, -87.562462756)'),\n",
       " (10402076, 'HZ138551', datetime.datetime(2016, 2, 2, 19, 30), '033XX W 66TH ST', '820', 'THEFT', '$500 AND UNDER', 'ALLEY', 'FALSE', 'FALSE', 831, 8, 15, 66, '6', 1155240, 1860661, 2016, datetime.datetime(2018, 2, 10, 15, 50, 1), Decimal('41.77345530'), Decimal('-87.70648047'), '(41.773455295, -87.706480471)'),\n",
       " (7732712, 'HS540106', datetime.datetime(2010, 9, 29, 7, 59), '006XX W CHICAGO AVE', '810', 'THEFT', 'OVER $500', 'PARKING LOT/GARAGE(NON.RESID.)', 'FALSE', 'FALSE', 1323, 12, 27, 24, '6', 1171668, 1905607, 2010, datetime.datetime(2018, 2, 10, 15, 50, 1), Decimal('41.89644677'), Decimal('-87.64493868'), '(41.896446772, -87.644938678)'),\n",
       " (10769475, 'HZ534771', datetime.datetime(2016, 11, 30, 1, 15), '050XX N KEDZIE AVE', '810', 'THEFT', 'OVER $500', 'STREET', 'FALSE', 'FALSE', 1713, 17, 33, 14, '6', 1154133, 1933314, 2016, datetime.datetime(2018, 2, 10, 15, 50, 1), Decimal('41.97284491'), Decimal('-87.70860008'), '(41.972844913, -87.708600079)'),\n",
       " (4494340, 'HL793243', datetime.datetime(2005, 12, 16, 16, 45), '005XX E PERSHING RD', '860', 'THEFT', 'RETAIL THEFT', 'GROCERY FOOD STORE', 'TRUE', 'FALSE', 213, 2, 3, 38, '6', 1180448, 1879234, 2005, datetime.datetime(2018, 2, 28, 15, 56, 25), Decimal('41.82387989'), Decimal('-87.61350386'), '(41.823879885, -87.613503857)'),\n",
       " (3778925, 'HL149610', datetime.datetime(2005, 1, 28, 17, 0), '100XX S WASHTENAW AVE', '810', 'THEFT', 'OVER $500', 'STREET', 'FALSE', 'FALSE', 2211, 22, 19, 72, '6', 1160129, 1838040, 2005, datetime.datetime(2018, 2, 28, 15, 56, 25), Decimal('41.71128051'), Decimal('-87.68917910'), '(41.711280513, -87.689179097)'),\n",
       " (3324217, 'HK361551', datetime.datetime(2004, 5, 13, 14, 15), '033XX W BELMONT AVE', '820', 'THEFT', '$500 AND UNDER', 'SMALL RETAIL STORE', 'FALSE', 'FALSE', 1733, 17, 35, 21, '6', 1153590, 1921084, 2004, datetime.datetime(2018, 2, 28, 15, 56, 25), Decimal('41.93929582'), Decimal('-87.71092344'), '(41.939295821, -87.710923442)')]"
      ]
     },
     "execution_count": 14,
     "metadata": {},
     "output_type": "execute_result"
    }
   ],
   "source": [
    "#Problem2/First 10 rows\n",
    "%sql select * from CHICAGO_CRIME_DATA\\\n",
    "fetch first 10 rows only"
   ]
  },
  {
   "cell_type": "code",
   "execution_count": 15,
   "metadata": {},
   "outputs": [
    {
     "name": "stdout",
     "output_type": "stream",
     "text": [
      " * ibm_db_sa://hkq36638:***@dashdb-txn-sbox-yp-lon02-04.services.eu-gb.bluemix.net:50000/BLUDB\n",
      "Done.\n"
     ]
    },
    {
     "data": {
      "text/html": [
       "<table>\n",
       "    <tr>\n",
       "        <th>1</th>\n",
       "    </tr>\n",
       "    <tr>\n",
       "        <td>163</td>\n",
       "    </tr>\n",
       "</table>"
      ],
      "text/plain": [
       "[(Decimal('163'),)]"
      ]
     },
     "execution_count": 15,
     "metadata": {},
     "output_type": "execute_result"
    }
   ],
   "source": [
    "#Problem3/Arrest\n",
    "%sql select count(ARREST) from CHICAGO_CRIME_DATA\\\n",
    "where ARREST = 'TRUE'"
   ]
  },
  {
   "cell_type": "code",
   "execution_count": 14,
   "metadata": {},
   "outputs": [
    {
     "name": "stdout",
     "output_type": "stream",
     "text": [
      " * ibm_db_sa://hkq36638:***@dashdb-txn-sbox-yp-lon02-04.services.eu-gb.bluemix.net:50000/BLUDB\n",
      "Done.\n"
     ]
    },
    {
     "data": {
      "text/html": [
       "<table>\n",
       "    <tr>\n",
       "        <th>primary_type</th>\n",
       "        <th>location_description</th>\n",
       "    </tr>\n",
       "    <tr>\n",
       "        <td>CRIMINAL TRESPASS</td>\n",
       "        <td>GAS STATION</td>\n",
       "    </tr>\n",
       "    <tr>\n",
       "        <td>NARCOTICS</td>\n",
       "        <td>GAS STATION</td>\n",
       "    </tr>\n",
       "    <tr>\n",
       "        <td>ROBBERY</td>\n",
       "        <td>GAS STATION</td>\n",
       "    </tr>\n",
       "    <tr>\n",
       "        <td>THEFT</td>\n",
       "        <td>GAS STATION</td>\n",
       "    </tr>\n",
       "</table>"
      ],
      "text/plain": [
       "[('CRIMINAL TRESPASS', 'GAS STATION'),\n",
       " ('NARCOTICS', 'GAS STATION'),\n",
       " ('ROBBERY', 'GAS STATION'),\n",
       " ('THEFT', 'GAS STATION')]"
      ]
     },
     "execution_count": 14,
     "metadata": {},
     "output_type": "execute_result"
    }
   ],
   "source": [
    "# Problem4/GAS STATION\n",
    "%sql select distinct(PRIMARY_TYPE),LOCATION_DESCRIPTION from CHICAGO_CRIME_DATA\\\n",
    "where LOCATION_DESCRIPTION = 'GAS STATION'"
   ]
  },
  {
   "cell_type": "code",
   "execution_count": 44,
   "metadata": {},
   "outputs": [
    {
     "name": "stdout",
     "output_type": "stream",
     "text": [
      " * ibm_db_sa://hkq36638:***@dashdb-txn-sbox-yp-lon02-04.services.eu-gb.bluemix.net:50000/BLUDB\n",
      "Done.\n"
     ]
    },
    {
     "data": {
      "text/html": [
       "<table>\n",
       "    <tr>\n",
       "        <th>community_area_name</th>\n",
       "    </tr>\n",
       "    <tr>\n",
       "        <td>Belmont Cragin</td>\n",
       "    </tr>\n",
       "    <tr>\n",
       "        <td>Burnside</td>\n",
       "    </tr>\n",
       "    <tr>\n",
       "        <td>Brighton Park</td>\n",
       "    </tr>\n",
       "    <tr>\n",
       "        <td>Bridgeport</td>\n",
       "    </tr>\n",
       "    <tr>\n",
       "        <td>Beverly</td>\n",
       "    </tr>\n",
       "</table>"
      ],
      "text/plain": [
       "[('Belmont Cragin',),\n",
       " ('Burnside',),\n",
       " ('Brighton Park',),\n",
       " ('Bridgeport',),\n",
       " ('Beverly',)]"
      ]
     },
     "execution_count": 44,
     "metadata": {},
     "output_type": "execute_result"
    }
   ],
   "source": [
    "#Problem5/B\n",
    "%sql select COMMUNITY_AREA_NAME from CENSUS_DATA\\\n",
    "where COMMUNITY_AREA_NAME like 'B%'"
   ]
  },
  {
   "cell_type": "code",
   "execution_count": 17,
   "metadata": {},
   "outputs": [
    {
     "name": "stdout",
     "output_type": "stream",
     "text": [
      " * ibm_db_sa://hkq36638:***@dashdb-txn-sbox-yp-lon02-04.services.eu-gb.bluemix.net:50000/BLUDB\n",
      "Done.\n"
     ]
    },
    {
     "data": {
      "text/html": [
       "<table>\n",
       "    <tr>\n",
       "        <th>1</th>\n",
       "    </tr>\n",
       "    <tr>\n",
       "        <td>49.504873</td>\n",
       "    </tr>\n",
       "</table>"
      ],
      "text/plain": [
       "[(Decimal('49.504873'),)]"
      ]
     },
     "execution_count": 17,
     "metadata": {},
     "output_type": "execute_result"
    }
   ],
   "source": [
    "#Problem7/SafetyScore\n",
    "%sql select AVG(SAFETY_SCORE) from CHICAGO_PUBLIC_SCHOOLS"
   ]
  },
  {
   "cell_type": "code",
   "execution_count": 13,
   "metadata": {},
   "outputs": [
    {
     "name": "stdout",
     "output_type": "stream",
     "text": [
      " * ibm_db_sa://hkq36638:***@dashdb-txn-sbox-yp-lon02-04.services.eu-gb.bluemix.net:50000/BLUDB\n",
      "Done.\n"
     ]
    },
    {
     "data": {
      "text/html": [
       "<table>\n",
       "    <tr>\n",
       "        <th>community_area_name</th>\n",
       "        <th>avg_enrollment</th>\n",
       "    </tr>\n",
       "    <tr>\n",
       "        <td>ARCHER HEIGHTS</td>\n",
       "        <td>2411.500000</td>\n",
       "    </tr>\n",
       "    <tr>\n",
       "        <td>MONTCLARE</td>\n",
       "        <td>1317.000000</td>\n",
       "    </tr>\n",
       "    <tr>\n",
       "        <td>WEST ELSDON</td>\n",
       "        <td>1233.333333</td>\n",
       "    </tr>\n",
       "    <tr>\n",
       "        <td>BRIGHTON PARK</td>\n",
       "        <td>1205.875000</td>\n",
       "    </tr>\n",
       "    <tr>\n",
       "        <td>BELMONT CRAGIN</td>\n",
       "        <td>1198.833333</td>\n",
       "    </tr>\n",
       "</table>"
      ],
      "text/plain": [
       "[('ARCHER HEIGHTS', Decimal('2411.500000')),\n",
       " ('MONTCLARE', Decimal('1317.000000')),\n",
       " ('WEST ELSDON', Decimal('1233.333333')),\n",
       " ('BRIGHTON PARK', Decimal('1205.875000')),\n",
       " ('BELMONT CRAGIN', Decimal('1198.833333'))]"
      ]
     },
     "execution_count": 13,
     "metadata": {},
     "output_type": "execute_result"
    }
   ],
   "source": [
    "#Problem8/AVGCollegeEnrollment\n",
    "%sql select COMMUNITY_AREA_NAME,AVG(COLLEGE_ENROLLMENT) \\\n",
    "as AVG_ENROLLMENT from SCHOOLS\\\n",
    "group by COMMUNITY_AREA_NAME\\\n",
    "order by AVG_ENROLLMENT DESC LIMIT 5\n"
   ]
  },
  {
   "cell_type": "code",
   "execution_count": 14,
   "metadata": {},
   "outputs": [
    {
     "name": "stdout",
     "output_type": "stream",
     "text": [
      " * ibm_db_sa://hkq36638:***@dashdb-txn-sbox-yp-lon02-04.services.eu-gb.bluemix.net:50000/BLUDB\n",
      "Done.\n"
     ]
    },
    {
     "data": {
      "text/html": [
       "<table>\n",
       "    <tr>\n",
       "        <th>community_area_name</th>\n",
       "        <th>safety_score</th>\n",
       "    </tr>\n",
       "    <tr>\n",
       "        <td>WASHINGTON PARK</td>\n",
       "        <td>1</td>\n",
       "    </tr>\n",
       "</table>"
      ],
      "text/plain": [
       "[('WASHINGTON PARK', 1)]"
      ]
     },
     "execution_count": 14,
     "metadata": {},
     "output_type": "execute_result"
    }
   ],
   "source": [
    "#Problem9/LeastSafetyScore\n",
    "%sql select COMMUNITY_AREA_NAME,SAFETY_SCORE\\\n",
    "from CHICAGO_PUBLIC_SCHOOLS\\\n",
    "where SAFETY_SCORE = (select MIN(SAFETY_SCORE) \\\n",
    "from CHICAGO_PUBLIC_SCHOOLS)"
   ]
  },
  {
   "cell_type": "code",
   "execution_count": 39,
   "metadata": {},
   "outputs": [
    {
     "name": "stdout",
     "output_type": "stream",
     "text": [
      " * ibm_db_sa://hkq36638:***@dashdb-txn-sbox-yp-lon02-04.services.eu-gb.bluemix.net:50000/BLUDB\n",
      "Done.\n"
     ]
    },
    {
     "data": {
      "text/html": [
       "<table>\n",
       "    <tr>\n",
       "        <th>per_capita_income</th>\n",
       "        <th>community_area_number</th>\n",
       "        <th>community_area_name</th>\n",
       "    </tr>\n",
       "    <tr>\n",
       "        <td>13785</td>\n",
       "        <td>40</td>\n",
       "        <td>Washington Park</td>\n",
       "    </tr>\n",
       "</table>"
      ],
      "text/plain": [
       "[(13785, 40, 'Washington Park')]"
      ]
     },
     "execution_count": 39,
     "metadata": {},
     "output_type": "execute_result"
    }
   ],
   "source": [
    "#Problem10/PER_CAPITA_INCOME\n",
    "%sql select PER_CAPITA_INCOME, COMMUNITY_AREA_NUMBER,COMMUNITY_AREA_NAME\\\n",
    "from CENSUS_DATA\\\n",
    "WHERE COMMUNITY_AREA_NUMBER IN (select COMMUNITY_AREA_NUMBER from CHICAGO_PUBLIC_SCHOOLS\\\n",
    "where SAFETY_SCORE=1)"
   ]
  },
  {
   "cell_type": "code",
   "execution_count": 6,
   "metadata": {},
   "outputs": [
    {
     "name": "stdout",
     "output_type": "stream",
     "text": [
      " * ibm_db_sa://hkq36638:***@dashdb-txn-sbox-yp-lon02-04.services.eu-gb.bluemix.net:50000/BLUDB\n",
      "Done.\n"
     ]
    },
    {
     "data": {
      "text/html": [
       "<table>\n",
       "    <tr>\n",
       "        <th>per_capita_income</th>\n",
       "        <th>community_area_number</th>\n",
       "        <th>community_area_name</th>\n",
       "    </tr>\n",
       "    <tr>\n",
       "        <td>13785</td>\n",
       "        <td>40</td>\n",
       "        <td>Washington Park</td>\n",
       "    </tr>\n",
       "</table>"
      ],
      "text/plain": [
       "[(13785, 40, 'Washington Park')]"
      ]
     },
     "execution_count": 6,
     "metadata": {},
     "output_type": "execute_result"
    }
   ],
   "source": [
    "#Problem10/PER_CAPITA_INCOME\n",
    "%sql select PER_CAPITA_INCOME, COMMUNITY_AREA_NUMBER,COMMUNITY_AREA_NAME\\\n",
    "from CENSUS_DATA\\\n",
    "WHERE COMMUNITY_AREA_NUMBER IN (select COMMUNITY_AREA_NUMBER from CHICAGO_PUBLIC_SCHOOLS\\\n",
    "where SAFETY_SCORE=1)"
   ]
  },
  {
   "cell_type": "markdown",
   "metadata": {},
   "source": [
    "Copyright &copy; 2018 [cognitiveclass.ai](cognitiveclass.ai?utm_source=bducopyrightlink&utm_medium=dswb&utm_campaign=bdu). This notebook and its source code are released under the terms of the [MIT License](https://bigdatauniversity.com/mit-license/).\n"
   ]
  }
 ],
 "metadata": {
  "kernelspec": {
   "display_name": "Python 3",
   "language": "python",
   "name": "python3"
  },
  "language_info": {
   "codemirror_mode": {
    "name": "ipython",
    "version": 3
   },
   "file_extension": ".py",
   "mimetype": "text/x-python",
   "name": "python",
   "nbconvert_exporter": "python",
   "pygments_lexer": "ipython3",
   "version": "3.7.6"
  },
  "widgets": {
   "state": {},
   "version": "1.1.2"
  }
 },
 "nbformat": 4,
 "nbformat_minor": 4
}
